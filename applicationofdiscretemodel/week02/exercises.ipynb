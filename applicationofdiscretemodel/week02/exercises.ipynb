{
 "cells": [
  {
   "cell_type": "code",
   "execution_count": null,
   "metadata": {},
   "outputs": [],
   "source": [
    "\n",
    "\n",
    "print(2^100)"
   ]
  },
  {
   "cell_type": "code",
   "execution_count": null,
   "metadata": {},
   "outputs": [],
   "source": [
    "print(2^2^10)"
   ]
  },
  {
   "cell_type": "code",
   "execution_count": null,
   "metadata": {},
   "outputs": [],
   "source": [
    "print((2^2)^10)"
   ]
  },
  {
   "cell_type": "code",
   "execution_count": null,
   "metadata": {},
   "outputs": [],
   "source": [
    "print(2^(2^10))"
   ]
  },
  {
   "cell_type": "code",
   "execution_count": null,
   "metadata": {},
   "outputs": [],
   "source": [
    "print(2^2^2^2)"
   ]
  },
  {
   "cell_type": "code",
   "execution_count": null,
   "metadata": {},
   "outputs": [],
   "source": [
    "print(2^2^2^2^2)"
   ]
  },
  {
   "cell_type": "code",
   "execution_count": 1,
   "metadata": {},
   "outputs": [
    {
     "name": "stdout",
     "output_type": "stream",
     "text": [
      "\u001b[0;31mSignature:\u001b[0m      \u001b[0msum\u001b[0m\u001b[0;34m(\u001b[0m\u001b[0mexpression\u001b[0m\u001b[0;34m,\u001b[0m \u001b[0;34m*\u001b[0m\u001b[0margs\u001b[0m\u001b[0;34m,\u001b[0m \u001b[0;34m**\u001b[0m\u001b[0mkwds\u001b[0m\u001b[0;34m)\u001b[0m\u001b[0;34m\u001b[0m\u001b[0;34m\u001b[0m\u001b[0m\n",
      "\u001b[0;31mDocstring:\u001b[0m     \n",
      "   Return the symbolic sum \\sum_{v = a}^b expression with respect to\n",
      "   the variable v with endpoints a and b.\n",
      "\n",
      "   INPUT:\n",
      "\n",
      "   * \"expression\" -- a symbolic expression\n",
      "\n",
      "   * \"v\" -- a variable or variable name\n",
      "\n",
      "   * \"a\" -- lower endpoint of the sum\n",
      "\n",
      "   * \"b\" -- upper endpoint of the sum\n",
      "\n",
      "   * \"algorithm\" -- (default: \"'maxima'\")  one of\n",
      "\n",
      "     * \"'maxima'\" -- use Maxima (the default)\n",
      "\n",
      "     * \"'maple'\" -- (optional) use Maple\n",
      "\n",
      "     * \"'mathematica'\" -- (optional) use Mathematica\n",
      "\n",
      "     * \"'giac'\" -- (optional) use Giac\n",
      "\n",
      "     * \"'sympy'\" -- use SymPy\n",
      "\n",
      "   EXAMPLES:\n",
      "\n",
      "      sage: k, n = var('k,n')\n",
      "      sage: sum(k, k, 1, n).factor()\n",
      "      1/2*(n + 1)*n\n",
      "\n",
      "      sage: sum(1/k^4, k, 1, oo)\n",
      "      1/90*pi^4\n",
      "\n",
      "      sage: sum(1/k^5, k, 1, oo)\n",
      "      zeta(5)\n",
      "\n",
      "   Warning:\n",
      "\n",
      "     This function only works with symbolic expressions. To sum any\n",
      "     other objects like list elements or function return values,\n",
      "     please use python summation, see\n",
      "     http://docs.python.org/library/functions.html#sumIn particular,\n",
      "     this does not work:\n",
      "\n",
      "        sage: n = var('n')\n",
      "        sage: mylist = [1,2,3,4,5]\n",
      "        sage: sum(mylist[n], n, 0, 3)\n",
      "        Traceback (most recent call last):\n",
      "        ...\n",
      "        TypeError: unable to convert n to an integer\n",
      "\n",
      "     Use python \"sum()\" instead:\n",
      "\n",
      "        sage: sum(mylist[n] for n in range(4))\n",
      "        10\n",
      "\n",
      "     Also, only a limited number of functions are recognized in\n",
      "     symbolic sums:\n",
      "\n",
      "        sage: sum(valuation(n, 2), n, 1, 5)\n",
      "        Traceback (most recent call last):\n",
      "        ...\n",
      "        TypeError: unable to convert n to an integer\n",
      "\n",
      "     Again, use python \"sum()\":\n",
      "\n",
      "        sage: sum(valuation(n + 1, 2) for n in range(5))\n",
      "        3\n",
      "\n",
      "     (now back to the Sage \"sum\" examples)\n",
      "\n",
      "   A well known binomial identity:\n",
      "\n",
      "      sage: sum(binomial(n, k), k, 0, n)\n",
      "      2^n\n",
      "\n",
      "   The binomial theorem:\n",
      "\n",
      "      sage: x, y = var('x, y')\n",
      "      sage: sum(binomial(n, k) * x^k * y^(n-k), k, 0, n)\n",
      "      (x + y)^n\n",
      "\n",
      "      sage: sum(k * binomial(n, k), k, 1, n)\n",
      "      2^(n - 1)*n\n",
      "\n",
      "      sage: sum((-1)^k * binomial(n, k), k, 0, n)\n",
      "      0\n",
      "\n",
      "      sage: sum(2^(-k)/(k*(k+1)), k, 1, oo)\n",
      "      -log(2) + 1\n",
      "\n",
      "   Another binomial identity\n",
      "   (https://github.com/sagemath/sage/issues/7952):\n",
      "\n",
      "      sage: t, k, i = var('t,k,i')\n",
      "      sage: sum(binomial(i + t, t), i, 0, k)\n",
      "      binomial(k + t + 1, t + 1)\n",
      "\n",
      "   Summing a hypergeometric term:\n",
      "\n",
      "      sage: sum(binomial(n, k) * factorial(k) / factorial(n+1+k), k, 0, n)\n",
      "      1/2*sqrt(pi)/factorial(n + 1/2)\n",
      "\n",
      "   We check a well known identity:\n",
      "\n",
      "      sage: bool(sum(k^3, k, 1, n) == sum(k, k, 1, n)^2)\n",
      "      True\n",
      "\n",
      "   A geometric sum:\n",
      "\n",
      "      sage: a, q = var('a, q')\n",
      "      sage: sum(a*q^k, k, 0, n)\n",
      "      (a*q^(n + 1) - a)/(q - 1)\n",
      "\n",
      "   The geometric series:\n",
      "\n",
      "      sage: assume(abs(q) < 1)\n",
      "      sage: sum(a * q^k, k, 0, oo)\n",
      "      -a/(q - 1)\n",
      "\n",
      "   A divergent geometric series.  Don't forget to forget your\n",
      "   assumptions:\n",
      "\n",
      "      sage: forget()\n",
      "      sage: assume(q > 1)\n",
      "      sage: sum(a * q^k, k, 0, oo)\n",
      "      Traceback (most recent call last):\n",
      "      ...\n",
      "      ValueError: Sum is divergent.\n",
      "\n",
      "   This summation only Mathematica can perform:\n",
      "\n",
      "      sage: sum(1/(1+k^2), k, -oo, oo, algorithm='mathematica')         # optional - mathematica\n",
      "      pi*coth(pi)\n",
      "\n",
      "   Use Maple as a backend for summation:\n",
      "\n",
      "      sage: sum(binomial(n, k) * x^k, k, 0, n, algorithm='maple')       # optional - maple\n",
      "      (x + 1)^n\n",
      "\n",
      "   Python ints should work as limits of summation\n",
      "   (https://github.com/sagemath/sage/issues/9393):\n",
      "\n",
      "      sage: sum(x, x, 1r, 5r)\n",
      "      15\n",
      "\n",
      "   Note:\n",
      "\n",
      "     1. Sage can currently only understand a subset of the output of\n",
      "        Maxima, Maple and Mathematica, so even if the chosen backend\n",
      "        can perform the summation the result might not be convertible\n",
      "        into a Sage expression.\n",
      "\u001b[0;31mInit docstring:\u001b[0m Initialize self.  See help(type(self)) for accurate signature.\n",
      "\u001b[0;31mFile:\u001b[0m           ~/miniforge3/envs/sage/lib/python3.11/site-packages/sage/misc/functional.py\n",
      "\u001b[0;31mType:\u001b[0m           function"
     ]
    }
   ],
   "source": [
    "sum?"
   ]
  },
  {
   "cell_type": "code",
   "execution_count": 6,
   "metadata": {},
   "outputs": [
    {
     "name": "stdout",
     "output_type": "stream",
     "text": [
      "1/2*n^2 + 1/2*n\n"
     ]
    }
   ],
   "source": [
    "var(\"k, n\")\n",
    "print(sum(k, k, 1, n))"
   ]
  },
  {
   "cell_type": "code",
   "execution_count": 8,
   "metadata": {},
   "outputs": [
    {
     "name": "stdout",
     "output_type": "stream",
     "text": [
      "1/3*n^3 + 1/2*n^2 + 1/6*n\n"
     ]
    }
   ],
   "source": [
    "var(\"k, n\")\n",
    "print(sum(k^2 , k , 1, n))"
   ]
  },
  {
   "cell_type": "code",
   "execution_count": 10,
   "metadata": {},
   "outputs": [
    {
     "name": "stdout",
     "output_type": "stream",
     "text": [
      "1/6*n^3 + 1/2*n^2 + 1/3*n\n"
     ]
    }
   ],
   "source": [
    "var(\"k,n\")\n",
    "print(sum(binomial(k,2), k, 1, n + 1))"
   ]
  },
  {
   "cell_type": "code",
   "execution_count": 13,
   "metadata": {},
   "outputs": [
    {
     "name": "stdout",
     "output_type": "stream",
     "text": [
      "1/6*n^3 + 1/2*n^2 + 1/3*n\n"
     ]
    }
   ],
   "source": [
    "var(\"j,k,n\")\n",
    "print(sum( sum(j, j, 1, k) , k, 1, n))"
   ]
  },
  {
   "cell_type": "code",
   "execution_count": 15,
   "metadata": {},
   "outputs": [
    {
     "name": "stdout",
     "output_type": "stream",
     "text": [
      "factorial(n)^2\n"
     ]
    }
   ],
   "source": [
    "var(\"k,n\")\n",
    "print(product(k^2, k, 1, n))"
   ]
  },
  {
   "cell_type": "code",
   "execution_count": 16,
   "metadata": {},
   "outputs": [],
   "source": [
    "lhs = sum( (1 / ((4*k - 3 ) * (4 * k + 1)))         , k,1, n)"
   ]
  },
  {
   "cell_type": "code",
   "execution_count": 18,
   "metadata": {},
   "outputs": [],
   "source": [
    "rhs = (n / (4 *n + 1))"
   ]
  },
  {
   "cell_type": "code",
   "execution_count": 20,
   "metadata": {},
   "outputs": [
    {
     "data": {
      "text/plain": [
       "n/(4*n + 1) == n/(4*n + 1)"
      ]
     },
     "execution_count": 20,
     "metadata": {},
     "output_type": "execute_result"
    }
   ],
   "source": [
    "lhs == rhs"
   ]
  },
  {
   "cell_type": "code",
   "execution_count": 22,
   "metadata": {},
   "outputs": [
    {
     "name": "stdout",
     "output_type": "stream",
     "text": [
      "\u001b[0;31mSignature:\u001b[0m      \u001b[0mlim\u001b[0m\u001b[0;34m(\u001b[0m\u001b[0mex\u001b[0m\u001b[0;34m,\u001b[0m \u001b[0mdir\u001b[0m\u001b[0;34m=\u001b[0m\u001b[0;32mNone\u001b[0m\u001b[0;34m,\u001b[0m \u001b[0mtaylor\u001b[0m\u001b[0;34m=\u001b[0m\u001b[0;32mFalse\u001b[0m\u001b[0;34m,\u001b[0m \u001b[0malgorithm\u001b[0m\u001b[0;34m=\u001b[0m\u001b[0;34m'maxima'\u001b[0m\u001b[0;34m,\u001b[0m \u001b[0;34m**\u001b[0m\u001b[0margv\u001b[0m\u001b[0;34m)\u001b[0m\u001b[0;34m\u001b[0m\u001b[0;34m\u001b[0m\u001b[0m\n",
      "\u001b[0;31mDocstring:\u001b[0m     \n",
      "   Return the limit as the variable v approaches a from the given\n",
      "   direction.\n",
      "\n",
      "      expr.limit(x = a)\n",
      "      expr.limit(x = a, dir='+')\n",
      "\n",
      "   INPUT:\n",
      "\n",
      "   * \"dir\" -- (default: \"None\"); may have the value \"'plus'\" (or \"'+'\"\n",
      "     or \"'right'\" or \"'above'\") for a limit from above, \"'minus'\" (or\n",
      "     \"'-'\" or \"'left'\" or \"'below'\") for a limit from below, or may be\n",
      "     omitted (implying a two-sided limit is to be computed).\n",
      "\n",
      "   * \"taylor\" -- (default: \"False\"); if \"True\", use Taylor series,\n",
      "     which allows more limits to be computed (but may also crash in\n",
      "     some obscure cases due to bugs in Maxima).\n",
      "\n",
      "   * \"**argv\" -- 1 named parameter\n",
      "\n",
      "   Note:\n",
      "\n",
      "     The output may also use \"und\" (undefined), \"ind\" (indefinite but\n",
      "     bounded), and \"infinity\" (complex infinity).\n",
      "\n",
      "   EXAMPLES:\n",
      "\n",
      "      sage: x = var('x')\n",
      "      sage: f = (1 + 1/x)^x\n",
      "      sage: f.limit(x=oo)\n",
      "      e\n",
      "      sage: f.limit(x=5)\n",
      "      7776/3125\n",
      "\n",
      "   Domain to real, a regression in 5.46.0, see\n",
      "   https://sf.net/p/maxima/bugs/4138\n",
      "\n",
      "      sage: maxima_calculus.eval(\"domain:real\")\n",
      "      ...\n",
      "      sage: f.limit(x=1.2).n()\n",
      "      2.06961575467...\n",
      "      sage: maxima_calculus.eval(\"domain:complex\");\n",
      "      ...\n",
      "\n",
      "   Otherwise, it works\n",
      "\n",
      "      sage: f.limit(x=I, taylor=True)\n",
      "      (-I + 1)^I\n",
      "      sage: f(x=1.2)\n",
      "      2.0696157546720...\n",
      "      sage: f(x=I)\n",
      "      (-I + 1)^I\n",
      "      sage: CDF(f(x=I))\n",
      "      2.0628722350809046 + 0.7450070621797239*I\n",
      "      sage: CDF(f.limit(x=I))\n",
      "      2.0628722350809046 + 0.7450070621797239*I\n",
      "\n",
      "   Notice that Maxima may ask for more information:\n",
      "\n",
      "      sage: var('a')\n",
      "      a\n",
      "      sage: limit(x^a,x=0)\n",
      "      Traceback (most recent call last):\n",
      "      ...\n",
      "      ValueError: Computation failed since Maxima requested additional\n",
      "      constraints; using the 'assume' command before evaluation\n",
      "      *may* help (example of legal syntax is 'assume(a>0)', see\n",
      "      `assume?` for more details)\n",
      "      Is a positive, negative or zero?\n",
      "\n",
      "   With this example, Maxima is looking for a LOT of information:\n",
      "\n",
      "      sage: assume(a>0)\n",
      "      sage: limit(x^a,x=0)  # random - maxima 5.46.0 does not need extra assumption\n",
      "      Traceback (most recent call last):\n",
      "      ...\n",
      "      ValueError: Computation failed since Maxima requested additional\n",
      "      constraints; using the 'assume' command before evaluation *may* help\n",
      "      (example of legal syntax is 'assume(a>0)', see `assume?` for\n",
      "       more details)\n",
      "      Is a an integer?\n",
      "      sage: assume(a,'integer')\n",
      "      sage: limit(x^a, x=0)  # random - maxima 5.46.0 does not need extra assumption\n",
      "      Traceback (most recent call last):\n",
      "      ...\n",
      "      ValueError: Computation failed since Maxima requested additional\n",
      "      constraints; using the 'assume' command before evaluation *may* help\n",
      "      (example of legal syntax is 'assume(a>0)', see `assume?` for\n",
      "       more details)\n",
      "      Is a an even number?\n",
      "      sage: assume(a, 'even')\n",
      "      sage: limit(x^a, x=0)\n",
      "      0\n",
      "      sage: forget()\n",
      "\n",
      "   More examples:\n",
      "\n",
      "      sage: limit(x*log(x), x=0, dir='+')\n",
      "      0\n",
      "      sage: lim((x+1)^(1/x), x=0)\n",
      "      e\n",
      "      sage: lim(e^x/x, x=oo)\n",
      "      +Infinity\n",
      "      sage: lim(e^x/x, x=-oo)\n",
      "      0\n",
      "      sage: lim(-e^x/x, x=oo)\n",
      "      -Infinity\n",
      "      sage: lim((cos(x))/(x^2), x=0)\n",
      "      +Infinity\n",
      "      sage: lim(sqrt(x^2+1) - x, x=oo)\n",
      "      0\n",
      "      sage: lim(x^2/(sec(x)-1), x=0)\n",
      "      2\n",
      "      sage: lim(cos(x)/(cos(x)-1), x=0)\n",
      "      -Infinity\n",
      "      sage: lim(x*sin(1/x), x=0)\n",
      "      0\n",
      "      sage: limit(e^(-1/x), x=0, dir='right')\n",
      "      0\n",
      "      sage: limit(e^(-1/x), x=0, dir='left')\n",
      "      +Infinity\n",
      "\n",
      "      sage: f = log(log(x)) / log(x)\n",
      "      sage: forget(); assume(x < -2); lim(f, x=0, taylor=True)\n",
      "      0\n",
      "      sage: forget()\n",
      "\n",
      "   Here ind means \"indefinite but bounded\":\n",
      "\n",
      "      sage: lim(sin(1/x), x = 0)\n",
      "      ind\n",
      "\n",
      "   We can use other packages than maxima, namely \"sympy\", \"giac\",\n",
      "   \"fricas\".\n",
      "\n",
      "   With the standard package Giac:\n",
      "\n",
      "      sage: from sage.libs.giac.giac import libgiac     # random\n",
      "      sage: (exp(-x)/(2+sin(x))).limit(x=oo, algorithm='giac')\n",
      "      0\n",
      "      sage: limit(e^(-1/x), x=0, dir='right', algorithm='giac')\n",
      "      0\n",
      "      sage: limit(e^(-1/x), x=0, dir='left', algorithm='giac')\n",
      "      +Infinity\n",
      "      sage: (x / (x+2^x+cos(x))).limit(x=-infinity, algorithm='giac')\n",
      "      1\n",
      "\n",
      "   With the optional package FriCAS:\n",
      "\n",
      "      sage: (x / (x+2^x+cos(x))).limit(x=-infinity, algorithm='fricas')       # optional - fricas\n",
      "      1\n",
      "      sage: limit(e^(-1/x), x=0, dir='right', algorithm='fricas')             # optional - fricas\n",
      "      0\n",
      "      sage: limit(e^(-1/x), x=0, dir='left', algorithm='fricas')              # optional - fricas\n",
      "      +Infinity\n",
      "\n",
      "   One can also call Mathematica's online interface:\n",
      "\n",
      "      sage: limit(pi+log(x)/x,x=oo, algorithm='mathematica_free')\n",
      "      pi\n",
      "\u001b[0;31mInit docstring:\u001b[0m Initialize self.  See help(type(self)) for accurate signature.\n",
      "\u001b[0;31mFile:\u001b[0m           ~/miniforge3/envs/sage/lib/python3.11/site-packages/sage/calculus/calculus.py\n",
      "\u001b[0;31mType:\u001b[0m           function"
     ]
    }
   ],
   "source": [
    "lim?"
   ]
  },
  {
   "cell_type": "code",
   "execution_count": 24,
   "metadata": {},
   "outputs": [
    {
     "name": "stdout",
     "output_type": "stream",
     "text": [
      "\u001b[0;31mSignature:\u001b[0m      \u001b[0mlimit\u001b[0m\u001b[0;34m(\u001b[0m\u001b[0mex\u001b[0m\u001b[0;34m,\u001b[0m \u001b[0mdir\u001b[0m\u001b[0;34m=\u001b[0m\u001b[0;32mNone\u001b[0m\u001b[0;34m,\u001b[0m \u001b[0mtaylor\u001b[0m\u001b[0;34m=\u001b[0m\u001b[0;32mFalse\u001b[0m\u001b[0;34m,\u001b[0m \u001b[0malgorithm\u001b[0m\u001b[0;34m=\u001b[0m\u001b[0;34m'maxima'\u001b[0m\u001b[0;34m,\u001b[0m \u001b[0;34m**\u001b[0m\u001b[0margv\u001b[0m\u001b[0;34m)\u001b[0m\u001b[0;34m\u001b[0m\u001b[0;34m\u001b[0m\u001b[0m\n",
      "\u001b[0;31mDocstring:\u001b[0m     \n",
      "   Return the limit as the variable v approaches a from the given\n",
      "   direction.\n",
      "\n",
      "      expr.limit(x = a)\n",
      "      expr.limit(x = a, dir='+')\n",
      "\n",
      "   INPUT:\n",
      "\n",
      "   * \"dir\" -- (default: \"None\"); may have the value \"'plus'\" (or \"'+'\"\n",
      "     or \"'right'\" or \"'above'\") for a limit from above, \"'minus'\" (or\n",
      "     \"'-'\" or \"'left'\" or \"'below'\") for a limit from below, or may be\n",
      "     omitted (implying a two-sided limit is to be computed).\n",
      "\n",
      "   * \"taylor\" -- (default: \"False\"); if \"True\", use Taylor series,\n",
      "     which allows more limits to be computed (but may also crash in\n",
      "     some obscure cases due to bugs in Maxima).\n",
      "\n",
      "   * \"**argv\" -- 1 named parameter\n",
      "\n",
      "   Note:\n",
      "\n",
      "     The output may also use \"und\" (undefined), \"ind\" (indefinite but\n",
      "     bounded), and \"infinity\" (complex infinity).\n",
      "\n",
      "   EXAMPLES:\n",
      "\n",
      "      sage: x = var('x')\n",
      "      sage: f = (1 + 1/x)^x\n",
      "      sage: f.limit(x=oo)\n",
      "      e\n",
      "      sage: f.limit(x=5)\n",
      "      7776/3125\n",
      "\n",
      "   Domain to real, a regression in 5.46.0, see\n",
      "   https://sf.net/p/maxima/bugs/4138\n",
      "\n",
      "      sage: maxima_calculus.eval(\"domain:real\")\n",
      "      ...\n",
      "      sage: f.limit(x=1.2).n()\n",
      "      2.06961575467...\n",
      "      sage: maxima_calculus.eval(\"domain:complex\");\n",
      "      ...\n",
      "\n",
      "   Otherwise, it works\n",
      "\n",
      "      sage: f.limit(x=I, taylor=True)\n",
      "      (-I + 1)^I\n",
      "      sage: f(x=1.2)\n",
      "      2.0696157546720...\n",
      "      sage: f(x=I)\n",
      "      (-I + 1)^I\n",
      "      sage: CDF(f(x=I))\n",
      "      2.0628722350809046 + 0.7450070621797239*I\n",
      "      sage: CDF(f.limit(x=I))\n",
      "      2.0628722350809046 + 0.7450070621797239*I\n",
      "\n",
      "   Notice that Maxima may ask for more information:\n",
      "\n",
      "      sage: var('a')\n",
      "      a\n",
      "      sage: limit(x^a,x=0)\n",
      "      Traceback (most recent call last):\n",
      "      ...\n",
      "      ValueError: Computation failed since Maxima requested additional\n",
      "      constraints; using the 'assume' command before evaluation\n",
      "      *may* help (example of legal syntax is 'assume(a>0)', see\n",
      "      `assume?` for more details)\n",
      "      Is a positive, negative or zero?\n",
      "\n",
      "   With this example, Maxima is looking for a LOT of information:\n",
      "\n",
      "      sage: assume(a>0)\n",
      "      sage: limit(x^a,x=0)  # random - maxima 5.46.0 does not need extra assumption\n",
      "      Traceback (most recent call last):\n",
      "      ...\n",
      "      ValueError: Computation failed since Maxima requested additional\n",
      "      constraints; using the 'assume' command before evaluation *may* help\n",
      "      (example of legal syntax is 'assume(a>0)', see `assume?` for\n",
      "       more details)\n",
      "      Is a an integer?\n",
      "      sage: assume(a,'integer')\n",
      "      sage: limit(x^a, x=0)  # random - maxima 5.46.0 does not need extra assumption\n",
      "      Traceback (most recent call last):\n",
      "      ...\n",
      "      ValueError: Computation failed since Maxima requested additional\n",
      "      constraints; using the 'assume' command before evaluation *may* help\n",
      "      (example of legal syntax is 'assume(a>0)', see `assume?` for\n",
      "       more details)\n",
      "      Is a an even number?\n",
      "      sage: assume(a, 'even')\n",
      "      sage: limit(x^a, x=0)\n",
      "      0\n",
      "      sage: forget()\n",
      "\n",
      "   More examples:\n",
      "\n",
      "      sage: limit(x*log(x), x=0, dir='+')\n",
      "      0\n",
      "      sage: lim((x+1)^(1/x), x=0)\n",
      "      e\n",
      "      sage: lim(e^x/x, x=oo)\n",
      "      +Infinity\n",
      "      sage: lim(e^x/x, x=-oo)\n",
      "      0\n",
      "      sage: lim(-e^x/x, x=oo)\n",
      "      -Infinity\n",
      "      sage: lim((cos(x))/(x^2), x=0)\n",
      "      +Infinity\n",
      "      sage: lim(sqrt(x^2+1) - x, x=oo)\n",
      "      0\n",
      "      sage: lim(x^2/(sec(x)-1), x=0)\n",
      "      2\n",
      "      sage: lim(cos(x)/(cos(x)-1), x=0)\n",
      "      -Infinity\n",
      "      sage: lim(x*sin(1/x), x=0)\n",
      "      0\n",
      "      sage: limit(e^(-1/x), x=0, dir='right')\n",
      "      0\n",
      "      sage: limit(e^(-1/x), x=0, dir='left')\n",
      "      +Infinity\n",
      "\n",
      "      sage: f = log(log(x)) / log(x)\n",
      "      sage: forget(); assume(x < -2); lim(f, x=0, taylor=True)\n",
      "      0\n",
      "      sage: forget()\n",
      "\n",
      "   Here ind means \"indefinite but bounded\":\n",
      "\n",
      "      sage: lim(sin(1/x), x = 0)\n",
      "      ind\n",
      "\n",
      "   We can use other packages than maxima, namely \"sympy\", \"giac\",\n",
      "   \"fricas\".\n",
      "\n",
      "   With the standard package Giac:\n",
      "\n",
      "      sage: from sage.libs.giac.giac import libgiac     # random\n",
      "      sage: (exp(-x)/(2+sin(x))).limit(x=oo, algorithm='giac')\n",
      "      0\n",
      "      sage: limit(e^(-1/x), x=0, dir='right', algorithm='giac')\n",
      "      0\n",
      "      sage: limit(e^(-1/x), x=0, dir='left', algorithm='giac')\n",
      "      +Infinity\n",
      "      sage: (x / (x+2^x+cos(x))).limit(x=-infinity, algorithm='giac')\n",
      "      1\n",
      "\n",
      "   With the optional package FriCAS:\n",
      "\n",
      "      sage: (x / (x+2^x+cos(x))).limit(x=-infinity, algorithm='fricas')       # optional - fricas\n",
      "      1\n",
      "      sage: limit(e^(-1/x), x=0, dir='right', algorithm='fricas')             # optional - fricas\n",
      "      0\n",
      "      sage: limit(e^(-1/x), x=0, dir='left', algorithm='fricas')              # optional - fricas\n",
      "      +Infinity\n",
      "\n",
      "   One can also call Mathematica's online interface:\n",
      "\n",
      "      sage: limit(pi+log(x)/x,x=oo, algorithm='mathematica_free')\n",
      "      pi\n",
      "\u001b[0;31mInit docstring:\u001b[0m Initialize self.  See help(type(self)) for accurate signature.\n",
      "\u001b[0;31mFile:\u001b[0m           ~/miniforge3/envs/sage/lib/python3.11/site-packages/sage/calculus/calculus.py\n",
      "\u001b[0;31mType:\u001b[0m           function"
     ]
    }
   ],
   "source": [
    "limit?"
   ]
  },
  {
   "cell_type": "code",
   "execution_count": 25,
   "metadata": {},
   "outputs": [
    {
     "data": {
      "text/plain": [
       "1/2"
      ]
     },
     "execution_count": 25,
     "metadata": {},
     "output_type": "execute_result"
    }
   ],
   "source": [
    "var(\"x\")\n",
    "limit( ((x^4 - x^3 - 3) / (2*x^4 + 3*x^2 + 1)) , x=oo )"
   ]
  },
  {
   "cell_type": "code",
   "execution_count": 26,
   "metadata": {},
   "outputs": [
    {
     "data": {
      "text/plain": [
       "e"
      ]
     },
     "execution_count": 26,
     "metadata": {},
     "output_type": "execute_result"
    }
   ],
   "source": [
    "limit( ( 1 + (1/n))^n, n = oo )"
   ]
  },
  {
   "cell_type": "code",
   "execution_count": 30,
   "metadata": {},
   "outputs": [
    {
     "name": "stdout",
     "output_type": "stream",
     "text": [
      "\u001b[0;31mSignature:\u001b[0m      \u001b[0mdiff\u001b[0m\u001b[0;34m(\u001b[0m\u001b[0mf\u001b[0m\u001b[0;34m,\u001b[0m \u001b[0;34m*\u001b[0m\u001b[0margs\u001b[0m\u001b[0;34m,\u001b[0m \u001b[0;34m**\u001b[0m\u001b[0mkwds\u001b[0m\u001b[0;34m)\u001b[0m\u001b[0;34m\u001b[0m\u001b[0;34m\u001b[0m\u001b[0m\n",
      "\u001b[0;31mDocstring:\u001b[0m     \n",
      "WARNING: the enclosing module is marked 'needs sage.symbolic',\n",
      "so doctests may not pass.\n",
      "\n",
      "   The derivative of f.\n",
      "\n",
      "   Repeated differentiation is supported by the syntax given in the\n",
      "   examples below.\n",
      "\n",
      "   ALIAS: diff\n",
      "\n",
      "   EXAMPLES: We differentiate a callable symbolic function:\n",
      "\n",
      "      sage: f(x,y) = x*y + sin(x^2) + e^(-x)\n",
      "      sage: f\n",
      "      (x, y) |--> x*y + e^(-x) + sin(x^2)\n",
      "      sage: derivative(f, x)\n",
      "      (x, y) |--> 2*x*cos(x^2) + y - e^(-x)\n",
      "      sage: derivative(f, y)\n",
      "      (x, y) |--> x\n",
      "\n",
      "   We differentiate a polynomial:\n",
      "\n",
      "      sage: t = polygen(QQ, 't')\n",
      "      sage: f = (1-t)^5; f\n",
      "      -t^5 + 5*t^4 - 10*t^3 + 10*t^2 - 5*t + 1\n",
      "      sage: derivative(f)\n",
      "      -5*t^4 + 20*t^3 - 30*t^2 + 20*t - 5\n",
      "      sage: derivative(f, t)\n",
      "      -5*t^4 + 20*t^3 - 30*t^2 + 20*t - 5\n",
      "      sage: derivative(f, t, t)\n",
      "      -20*t^3 + 60*t^2 - 60*t + 20\n",
      "      sage: derivative(f, t, 2)\n",
      "      -20*t^3 + 60*t^2 - 60*t + 20\n",
      "      sage: derivative(f, 2)\n",
      "      -20*t^3 + 60*t^2 - 60*t + 20\n",
      "\n",
      "   We differentiate a symbolic expression:\n",
      "\n",
      "      sage: var('a x')\n",
      "      (a, x)\n",
      "      sage: f = exp(sin(a - x^2))/x\n",
      "      sage: derivative(f, x)\n",
      "      -2*cos(-x^2 + a)*e^(sin(-x^2 + a)) - e^(sin(-x^2 + a))/x^2\n",
      "      sage: derivative(f, a)\n",
      "      cos(-x^2 + a)*e^(sin(-x^2 + a))/x\n",
      "\n",
      "   Syntax for repeated differentiation:\n",
      "\n",
      "      sage: R.<u, v> = PolynomialRing(QQ)\n",
      "      sage: f = u^4*v^5\n",
      "      sage: derivative(f, u)\n",
      "      4*u^3*v^5\n",
      "      sage: f.derivative(u)   # can always use method notation too\n",
      "      4*u^3*v^5\n",
      "\n",
      "      sage: derivative(f, u, u)\n",
      "      12*u^2*v^5\n",
      "      sage: derivative(f, u, u, u)\n",
      "      24*u*v^5\n",
      "      sage: derivative(f, u, 3)\n",
      "      24*u*v^5\n",
      "\n",
      "      sage: derivative(f, u, v)\n",
      "      20*u^3*v^4\n",
      "      sage: derivative(f, u, 2, v)\n",
      "      60*u^2*v^4\n",
      "      sage: derivative(f, u, v, 2)\n",
      "      80*u^3*v^3\n",
      "      sage: derivative(f, [u, v, v])\n",
      "      80*u^3*v^3\n",
      "\n",
      "   We differentiate a scalar field on a manifold:\n",
      "\n",
      "      sage: M = Manifold(2, 'M')\n",
      "      sage: X.<x,y> = M.chart()\n",
      "      sage: f = M.scalar_field(x^2*y, name='f')\n",
      "      sage: derivative(f)\n",
      "      1-form df on the 2-dimensional differentiable manifold M\n",
      "      sage: derivative(f).display()\n",
      "      df = 2*x*y dx + x^2 dy\n",
      "\n",
      "   We differentiate a differentiable form, getting its exterior\n",
      "   derivative:\n",
      "\n",
      "      sage: a = M.one_form(-y, x, name='a'); a.display()\n",
      "      a = -y dx + x dy\n",
      "      sage: derivative(a)\n",
      "      2-form da on the 2-dimensional differentiable manifold M\n",
      "      sage: derivative(a).display()\n",
      "      da = 2 dx∧dy\n",
      "\u001b[0;31mInit docstring:\u001b[0m Initialize self.  See help(type(self)) for accurate signature.\n",
      "\u001b[0;31mFile:\u001b[0m           ~/miniforge3/envs/sage/lib/python3.11/site-packages/sage/calculus/functional.py\n",
      "\u001b[0;31mType:\u001b[0m           function"
     ]
    }
   ],
   "source": [
    "diff?"
   ]
  },
  {
   "cell_type": "code",
   "execution_count": 32,
   "metadata": {},
   "outputs": [
    {
     "data": {
      "text/plain": [
       "-2*(x + 2)*x/(x^2 + 3)^2 + 1/(x^2 + 3)"
      ]
     },
     "execution_count": 32,
     "metadata": {},
     "output_type": "execute_result"
    }
   ],
   "source": [
    "diff( ((x + 2) / (x^2  + 3)),  x)"
   ]
  },
  {
   "cell_type": "code",
   "execution_count": 34,
   "metadata": {},
   "outputs": [
    {
     "data": {
      "text/plain": [
       "-(1/x + 1)^x*(1/(x*(1/x + 1)) - log(1/x + 1))"
      ]
     },
     "execution_count": 34,
     "metadata": {},
     "output_type": "execute_result"
    }
   ],
   "source": [
    "diff( ( 1 + (1/x)  )^x, x  )"
   ]
  },
  {
   "cell_type": "code",
   "execution_count": 37,
   "metadata": {},
   "outputs": [
    {
     "data": {
      "text/plain": [
       "2*cos(2*x)"
      ]
     },
     "execution_count": 37,
     "metadata": {},
     "output_type": "execute_result"
    }
   ],
   "source": [
    "diff(sin(2*x), x)"
   ]
  },
  {
   "cell_type": "code",
   "execution_count": 38,
   "metadata": {},
   "outputs": [
    {
     "data": {
      "text/plain": [
       "-4*sin(2*x)"
      ]
     },
     "execution_count": 38,
     "metadata": {},
     "output_type": "execute_result"
    }
   ],
   "source": [
    "diff(sin(2*x), x, 2)"
   ]
  },
  {
   "cell_type": "code",
   "execution_count": 39,
   "metadata": {},
   "outputs": [
    {
     "data": {
      "text/plain": [
       "-8*cos(2*x)"
      ]
     },
     "execution_count": 39,
     "metadata": {},
     "output_type": "execute_result"
    }
   ],
   "source": [
    "diff(sin(2*x), x, 3)"
   ]
  },
  {
   "cell_type": "code",
   "execution_count": 41,
   "metadata": {},
   "outputs": [
    {
     "name": "stdout",
     "output_type": "stream",
     "text": [
      "\u001b[0;31mSignature:\u001b[0m      \u001b[0mintegral\u001b[0m\u001b[0;34m(\u001b[0m\u001b[0mx\u001b[0m\u001b[0;34m,\u001b[0m \u001b[0;34m*\u001b[0m\u001b[0margs\u001b[0m\u001b[0;34m,\u001b[0m \u001b[0;34m**\u001b[0m\u001b[0mkwds\u001b[0m\u001b[0;34m)\u001b[0m\u001b[0;34m\u001b[0m\u001b[0;34m\u001b[0m\u001b[0m\n",
      "\u001b[0;31mDocstring:\u001b[0m     \n",
      "   Return an indefinite or definite integral of an object \"x\".\n",
      "\n",
      "   First call \"x.integral()\" and if that fails make an object and\n",
      "   integrate it using Maxima, maple, etc, as specified by algorithm.\n",
      "\n",
      "   For symbolic expression calls \"sage.calculus.calculus.integral()\" -\n",
      "   see this function for available options.\n",
      "\n",
      "   EXAMPLES:\n",
      "\n",
      "      sage: f = cyclotomic_polynomial(10)\n",
      "      sage: integral(f)\n",
      "      1/5*x^5 - 1/4*x^4 + 1/3*x^3 - 1/2*x^2 + x\n",
      "\n",
      "      sage: integral(sin(x), x)\n",
      "      -cos(x)\n",
      "\n",
      "      sage: y = var('y')\n",
      "      sage: integral(sin(x), y)\n",
      "      y*sin(x)\n",
      "\n",
      "      sage: integral(sin(x), x, 0, pi/2)\n",
      "      1\n",
      "      sage: sin(x).integral(x, 0, pi/2)\n",
      "      1\n",
      "      sage: integral(exp(-x), (x, 1, oo))\n",
      "      e^(-1)\n",
      "\n",
      "   Numerical approximation:\n",
      "\n",
      "      sage: h = integral(tan(x)/x, (x, 1, pi/3))\n",
      "      ...\n",
      "      sage: h\n",
      "      integrate(tan(x)/x, x, 1, 1/3*pi)\n",
      "      sage: h.n()\n",
      "      0.07571599101...\n",
      "\n",
      "   Specific algorithm can be used for integration:\n",
      "\n",
      "      sage: integral(sin(x)^2, x, algorithm='maxima')\n",
      "      1/2*x - 1/4*sin(2*x)\n",
      "      sage: integral(sin(x)^2, x, algorithm='sympy')\n",
      "      -1/2*cos(x)*sin(x) + 1/2*x\n",
      "\u001b[0;31mInit docstring:\u001b[0m Initialize self.  See help(type(self)) for accurate signature.\n",
      "\u001b[0;31mFile:\u001b[0m           ~/miniforge3/envs/sage/lib/python3.11/site-packages/sage/misc/functional.py\n",
      "\u001b[0;31mType:\u001b[0m           function"
     ]
    }
   ],
   "source": [
    "integral?"
   ]
  },
  {
   "cell_type": "code",
   "execution_count": 43,
   "metadata": {},
   "outputs": [
    {
     "data": {
      "text/plain": [
       "1/3"
      ]
     },
     "execution_count": 43,
     "metadata": {},
     "output_type": "execute_result"
    }
   ],
   "source": [
    "integral(x^2, x, 0, 1)"
   ]
  },
  {
   "cell_type": "code",
   "execution_count": 44,
   "metadata": {},
   "outputs": [
    {
     "data": {
      "text/plain": [
       "x*log(x) - x"
      ]
     },
     "execution_count": 44,
     "metadata": {},
     "output_type": "execute_result"
    }
   ],
   "source": [
    "integral(ln(x), x)"
   ]
  },
  {
   "cell_type": "code",
   "execution_count": 45,
   "metadata": {},
   "outputs": [
    {
     "data": {
      "text/plain": [
       "2/3*sqrt(3)*arctan(7/3*sqrt(3)) - 2/3*sqrt(3)*arctan(5/3*sqrt(3)) + 1/2*log(52) - 1/2*log(28)"
      ]
     },
     "execution_count": 45,
     "metadata": {},
     "output_type": "execute_result"
    }
   ],
   "source": [
    "integral( ((x + 2)/(x^2  +3)), x, 5, 7 )"
   ]
  },
  {
   "cell_type": "code",
   "execution_count": 46,
   "metadata": {},
   "outputs": [],
   "source": [
    "A = Matrix([[1,3,1], [2,3,4]])"
   ]
  },
  {
   "cell_type": "code",
   "execution_count": 47,
   "metadata": {},
   "outputs": [],
   "source": [
    "B = Matrix([[4,2,-1], [1,3,7]])"
   ]
  },
  {
   "cell_type": "code",
   "execution_count": 49,
   "metadata": {},
   "outputs": [],
   "source": [
    "C = Matrix([[1,3,1], [3,-1,2]])"
   ]
  },
  {
   "cell_type": "code",
   "execution_count": 50,
   "metadata": {},
   "outputs": [
    {
     "data": {
      "text/plain": [
       "[ 1/6 -1/3]\n",
       "[-1/9 -1/9]"
      ]
     },
     "execution_count": 50,
     "metadata": {},
     "output_type": "execute_result"
    }
   ],
   "source": [
    "((A - B) * C.transpose()).inverse()"
   ]
  },
  {
   "cell_type": "code",
   "execution_count": 52,
   "metadata": {},
   "outputs": [
    {
     "data": {
      "text/plain": [
       "-a2*a3 + a1*a4"
      ]
     },
     "execution_count": 52,
     "metadata": {},
     "output_type": "execute_result"
    }
   ],
   "source": [
    "var(\"a1,a2,a3,a4\");\n",
    "A = Matrix([[a1,a2], [a3,a4]])\n",
    "A.det()"
   ]
  },
  {
   "cell_type": "code",
   "execution_count": 53,
   "metadata": {},
   "outputs": [
    {
     "data": {
      "text/plain": [
       "-(a5*a7 - a4*a8)*a0 + (a2*a7 - a1*a8)*a3 - (a2*a4 - a1*a5)*a6"
      ]
     },
     "execution_count": 53,
     "metadata": {},
     "output_type": "execute_result"
    }
   ],
   "source": [
    "for i in range(0,10):\n",
    "  var(f\"a{i}\");\n",
    "\n",
    "A = Matrix([[a0, a1,a2], [a3,a4,a5], [a6,a7,a8]])\n",
    "A.det()"
   ]
  },
  {
   "cell_type": "code",
   "execution_count": 54,
   "metadata": {},
   "outputs": [
    {
     "data": {
      "text/plain": [
       "[1,\n",
       " 2,\n",
       " 6,\n",
       " 24,\n",
       " 120,\n",
       " 720,\n",
       " 5040,\n",
       " 40320,\n",
       " 362880,\n",
       " 3628800,\n",
       " 39916800,\n",
       " 479001600,\n",
       " 6227020800,\n",
       " 87178291200,\n",
       " 1307674368000,\n",
       " 20922789888000,\n",
       " 355687428096000,\n",
       " 6402373705728000,\n",
       " 121645100408832000,\n",
       " 2432902008176640000]"
      ]
     },
     "execution_count": 54,
     "metadata": {},
     "output_type": "execute_result"
    }
   ],
   "source": [
    "[factorial(i) for i in range(1,21)]"
   ]
  },
  {
   "cell_type": "code",
   "execution_count": 55,
   "metadata": {},
   "outputs": [
    {
     "name": "stdout",
     "output_type": "stream",
     "text": [
      "\u001b[0;31mSignature:\u001b[0m      \u001b[0mpolygonal_number\u001b[0m\u001b[0;34m(\u001b[0m\u001b[0ms\u001b[0m\u001b[0;34m,\u001b[0m \u001b[0mn\u001b[0m\u001b[0;34m)\u001b[0m\u001b[0;34m\u001b[0m\u001b[0;34m\u001b[0m\u001b[0m\n",
      "\u001b[0;31mDocstring:\u001b[0m     \n",
      "   Return the n-th s-gonal number.\n",
      "\n",
      "   Polygonal sequences are represented by dots forming a regular\n",
      "   polygon. Two famous sequences are the triangular numbers (3rd\n",
      "   column of Pascal's Triangle) and the square numbers. The n-th term\n",
      "   in a polygonal sequence is defined by\n",
      "\n",
      "      P(s, n) = \\frac{n^2(s-2) - n(s-4)}{2},\n",
      "\n",
      "   where s is the number of sides of the polygon.\n",
      "\n",
      "   INPUT:\n",
      "\n",
      "   * \"s\" -- integer greater than 1; the number of sides of the polygon\n",
      "\n",
      "   * \"n\" -- integer; the index of the returned s-gonal number\n",
      "\n",
      "   OUTPUT: an integer\n",
      "\n",
      "   EXAMPLES:\n",
      "\n",
      "   The triangular numbers:\n",
      "\n",
      "      sage: [polygonal_number(3, n) for n in range(10)]\n",
      "      [0, 1, 3, 6, 10, 15, 21, 28, 36, 45]\n",
      "\n",
      "      sage: [polygonal_number(3, n) for n in range(-10, 0)]\n",
      "      [45, 36, 28, 21, 15, 10, 6, 3, 1, 0]\n",
      "\n",
      "   The square numbers:\n",
      "\n",
      "      sage: [polygonal_number(4, n) for n in range(10)]\n",
      "      [0, 1, 4, 9, 16, 25, 36, 49, 64, 81]\n",
      "\n",
      "   The pentagonal numbers:\n",
      "\n",
      "      sage: [polygonal_number(5, n) for n in range(10)]\n",
      "      [0, 1, 5, 12, 22, 35, 51, 70, 92, 117]\n",
      "\n",
      "   The hexagonal numbers:\n",
      "\n",
      "      sage: [polygonal_number(6, n) for n in range(10)]\n",
      "      [0, 1, 6, 15, 28, 45, 66, 91, 120, 153]\n",
      "\n",
      "   The input is converted into an integer:\n",
      "\n",
      "      sage: polygonal_number(3.0, 2.0)\n",
      "      3\n",
      "\n",
      "   A non-integer input returns an error:\n",
      "\n",
      "      sage: polygonal_number(3.5, 1)\n",
      "      Traceback (most recent call last):\n",
      "      ...\n",
      "      TypeError: Attempt to coerce non-integral RealNumber to Integer\n",
      "\n",
      "   s must be greater than 1:\n",
      "\n",
      "      sage: polygonal_number(1, 4)\n",
      "      Traceback (most recent call last):\n",
      "      ...\n",
      "      ValueError: s (=1) must be greater than 1\n",
      "\n",
      "   REFERENCES:\n",
      "\n",
      "   * https://en.wikipedia.org/wiki/Polygonal_number\n",
      "\u001b[0;31mInit docstring:\u001b[0m Initialize self.  See help(type(self)) for accurate signature.\n",
      "\u001b[0;31mFile:\u001b[0m           ~/miniforge3/envs/sage/lib/python3.11/site-packages/sage/combinat/combinat.py\n",
      "\u001b[0;31mType:\u001b[0m           function"
     ]
    }
   ],
   "source": [
    "polygonal_number?"
   ]
  },
  {
   "cell_type": "code",
   "execution_count": 60,
   "metadata": {},
   "outputs": [
    {
     "data": {
      "text/plain": [
       "[1, 9, 36, 84, 126, 126, 84, 36, 9, 1]"
      ]
     },
     "execution_count": 60,
     "metadata": {},
     "output_type": "execute_result"
    }
   ],
   "source": [
    "[[binomial(n, k) for k in range(n + 1)] for n in range(10) ][9]"
   ]
  },
  {
   "cell_type": "code",
   "execution_count": 62,
   "metadata": {},
   "outputs": [
    {
     "data": {
      "text/plain": [
       "[[1],\n",
       " [1, 1],\n",
       " [1, 2, 1],\n",
       " [1, 3, 3, 1],\n",
       " [1, 4, 6, 4, 1],\n",
       " [1, 5, 10, 10, 5, 1],\n",
       " [1, 6, 15, 20, 15, 6, 1],\n",
       " [1, 7, 21, 35, 35, 21, 7, 1],\n",
       " [1, 8, 28, 56, 70, 56, 28, 8, 1],\n",
       " [1, 9, 36, 84, 126, 126, 84, 36, 9, 1]]"
      ]
     },
     "execution_count": 62,
     "metadata": {},
     "output_type": "execute_result"
    }
   ],
   "source": [
    "[[binomial(n, k) for k in range(n + 1)] for n in range(10) ]\n"
   ]
  },
  {
   "cell_type": "code",
   "execution_count": 69,
   "metadata": {},
   "outputs": [
    {
     "data": {
      "text/plain": [
       "[0,\n",
       " sin(5400/pi),\n",
       " sin(10800/pi),\n",
       " sin(16200/pi),\n",
       " sin(21600/pi),\n",
       " sin(27000/pi),\n",
       " sin(32400/pi),\n",
       " sin(37800/pi),\n",
       " sin(43200/pi),\n",
       " sin(48600/pi),\n",
       " sin(54000/pi),\n",
       " sin(59400/pi)]"
      ]
     },
     "execution_count": 69,
     "metadata": {},
     "output_type": "execute_result"
    }
   ],
   "source": [
    "[sin(deg * (180 / pi)) for deg in range(0,360,30)]"
   ]
  },
  {
   "cell_type": "code",
   "execution_count": 65,
   "metadata": {},
   "outputs": [
    {
     "name": "stdout",
     "output_type": "stream",
     "text": [
      "\u001b[0;31mType:\u001b[0m           Function_sin\n",
      "\u001b[0;31mString form:\u001b[0m    sin\n",
      "\u001b[0;31mFile:\u001b[0m           ~/miniforge3/envs/sage/lib/python3.11/site-packages/sage/functions/trig.py\n",
      "\u001b[0;31mDocstring:\u001b[0m     \n",
      "   The sine function.\n",
      "\n",
      "   EXAMPLES:\n",
      "\n",
      "      sage: sin(0)\n",
      "      0\n",
      "      sage: sin(x).subs(x==0)\n",
      "      0\n",
      "      sage: sin(2).n(100)\n",
      "      0.90929742682568169539601986591\n",
      "      sage: sin(x)._sympy_()\n",
      "      sin(x)\n",
      "\n",
      "   We can prevent evaluation using the \"hold\" parameter:\n",
      "\n",
      "      sage: sin(0, hold=True)\n",
      "      sin(0)\n",
      "\n",
      "   To then evaluate again, we currently must use Maxima via\n",
      "   \"sage.symbolic.expression.Expression.simplify()\":\n",
      "\n",
      "      sage: a = sin(0, hold=True); a.simplify()\n",
      "      0\n",
      "\n",
      "   If possible, the argument is also reduced modulo the period length\n",
      "   2\\pi, and well-known identities are directly evaluated:\n",
      "\n",
      "      sage: k = var('k', domain='integer')\n",
      "      sage: sin(1 + 2*k*pi)\n",
      "      sin(1)\n",
      "      sage: sin(k*pi)\n",
      "      0\n",
      "\u001b[0;31mInit docstring:\u001b[0m\n",
      "   The sine function.\n",
      "\n",
      "   EXAMPLES:\n",
      "\n",
      "      sage: sin(0)\n",
      "      0\n",
      "      sage: sin(x).subs(x==0)\n",
      "      0\n",
      "      sage: sin(2).n(100)\n",
      "      0.90929742682568169539601986591\n",
      "      sage: sin(x)._sympy_()\n",
      "      sin(x)\n",
      "\n",
      "   We can prevent evaluation using the \"hold\" parameter:\n",
      "\n",
      "      sage: sin(0, hold=True)\n",
      "      sin(0)\n",
      "\n",
      "   To then evaluate again, we currently must use Maxima via\n",
      "   \"sage.symbolic.expression.Expression.simplify()\":\n",
      "\n",
      "      sage: a = sin(0, hold=True); a.simplify()\n",
      "      0\n",
      "\n",
      "   If possible, the argument is also reduced modulo the period length\n",
      "   2\\pi, and well-known identities are directly evaluated:\n",
      "\n",
      "      sage: k = var('k', domain='integer')\n",
      "      sage: sin(1 + 2*k*pi)\n",
      "      sin(1)\n",
      "      sage: sin(k*pi)\n",
      "      0\n",
      "\u001b[0;31mCall docstring:\u001b[0m\n",
      "   Evaluate this function on the given arguments and return the\n",
      "   result.\n",
      "\n",
      "   EXAMPLES:\n",
      "\n",
      "      sage: exp(5)\n",
      "      e^5\n",
      "      sage: gamma(15)\n",
      "      87178291200\n",
      "\n",
      "   Python float, Python complex, mpmath mpf and mpc as well as numpy\n",
      "   inputs are sent to the relevant \"math\", \"cmath\", \"mpmath\" or\n",
      "   \"numpy\" function:\n",
      "\n",
      "      sage: cos(1.r)\n",
      "      0.5403023058681398\n",
      "      sage: assert type(_) is float\n",
      "      sage: gamma(4.r)\n",
      "      6.0\n",
      "      sage: assert type(_) is float\n",
      "\n",
      "      sage: cos(1jr)  # abstol 1e-15\n",
      "      (1.5430806348152437-0j)\n",
      "      sage: assert type(_) is complex\n",
      "\n",
      "      sage: import mpmath\n",
      "      sage: cos(mpmath.mpf('1.321412'))\n",
      "      mpf('0.24680737898640387')\n",
      "      sage: cos(mpmath.mpc(1,1))\n",
      "      mpc(real='0.83373002513114902', imag='-0.98889770576286506')\n",
      "\n",
      "      sage: import numpy\n",
      "      sage: sin(numpy.int32(0))\n",
      "      0.0\n",
      "      sage: type(_)\n",
      "      <class 'numpy.float64'>"
     ]
    }
   ],
   "source": [
    "sin?"
   ]
  },
  {
   "cell_type": "code",
   "execution_count": 70,
   "metadata": {},
   "outputs": [
    {
     "data": {
      "text/plain": [
       "[1,\n",
       " x,\n",
       " x^2,\n",
       " x^3,\n",
       " x^4,\n",
       " x^5,\n",
       " x^6,\n",
       " x^7,\n",
       " x^8,\n",
       " x^9,\n",
       " x^10,\n",
       " x^11,\n",
       " x^12,\n",
       " x^13,\n",
       " x^14,\n",
       " x^15,\n",
       " x^16,\n",
       " x^17,\n",
       " x^18,\n",
       " x^19,\n",
       " x^20,\n",
       " x^21,\n",
       " x^22,\n",
       " x^23,\n",
       " x^24,\n",
       " x^25,\n",
       " x^26,\n",
       " x^27,\n",
       " x^28,\n",
       " x^29,\n",
       " x^30,\n",
       " x^31,\n",
       " x^32,\n",
       " x^33,\n",
       " x^34,\n",
       " x^35,\n",
       " x^36,\n",
       " x^37,\n",
       " x^38,\n",
       " x^39,\n",
       " x^40,\n",
       " x^41,\n",
       " x^42,\n",
       " x^43,\n",
       " x^44,\n",
       " x^45,\n",
       " x^46,\n",
       " x^47,\n",
       " x^48,\n",
       " x^49,\n",
       " x^50,\n",
       " x^51,\n",
       " x^52,\n",
       " x^53,\n",
       " x^54,\n",
       " x^55,\n",
       " x^56,\n",
       " x^57,\n",
       " x^58,\n",
       " x^59,\n",
       " x^60,\n",
       " x^61,\n",
       " x^62,\n",
       " x^63,\n",
       " x^64,\n",
       " x^65,\n",
       " x^66,\n",
       " x^67,\n",
       " x^68,\n",
       " x^69,\n",
       " x^70,\n",
       " x^71,\n",
       " x^72,\n",
       " x^73,\n",
       " x^74,\n",
       " x^75,\n",
       " x^76,\n",
       " x^77,\n",
       " x^78,\n",
       " x^79,\n",
       " x^80,\n",
       " x^81,\n",
       " x^82,\n",
       " x^83,\n",
       " x^84,\n",
       " x^85,\n",
       " x^86,\n",
       " x^87,\n",
       " x^88,\n",
       " x^89,\n",
       " x^90,\n",
       " x^91,\n",
       " x^92,\n",
       " x^93,\n",
       " x^94,\n",
       " x^95,\n",
       " x^96,\n",
       " x^97,\n",
       " x^98,\n",
       " x^99,\n",
       " x^100]"
      ]
     },
     "execution_count": 70,
     "metadata": {},
     "output_type": "execute_result"
    }
   ],
   "source": [
    "[x^p for p in range(0,101)]"
   ]
  },
  {
   "cell_type": "code",
   "execution_count": 72,
   "metadata": {},
   "outputs": [
    {
     "data": {
      "text/plain": [
       "[2*cos(2*x),\n",
       " -4*sin(2*x),\n",
       " -8*cos(2*x),\n",
       " 16*sin(2*x),\n",
       " 32*cos(2*x),\n",
       " -64*sin(2*x),\n",
       " -128*cos(2*x),\n",
       " 256*sin(2*x),\n",
       " 512*cos(2*x),\n",
       " -1024*sin(2*x),\n",
       " -2048*cos(2*x),\n",
       " 4096*sin(2*x),\n",
       " 8192*cos(2*x),\n",
       " -16384*sin(2*x),\n",
       " -32768*cos(2*x),\n",
       " 65536*sin(2*x),\n",
       " 131072*cos(2*x),\n",
       " -262144*sin(2*x),\n",
       " -524288*cos(2*x),\n",
       " 1048576*sin(2*x)]"
      ]
     },
     "execution_count": 72,
     "metadata": {},
     "output_type": "execute_result"
    }
   ],
   "source": [
    "[diff(sin(2*x),x , order) for order in range(1,21)]"
   ]
  },
  {
   "cell_type": "code",
   "execution_count": 82,
   "metadata": {},
   "outputs": [
    {
     "data": {
      "text/plain": [
       "[  1   2   3   4   5   6   7   8   9  10]\n",
       "[  2   4   6   8  10  12  14  16  18  20]\n",
       "[  3   6   9  12  15  18  21  24  27  30]\n",
       "[  4   8  12  16  20  24  28  32  36  40]\n",
       "[  5  10  15  20  25  30  35  40  45  50]\n",
       "[  6  12  18  24  30  36  42  48  54  60]\n",
       "[  7  14  21  28  35  42  49  56  63  70]\n",
       "[  8  16  24  32  40  48  56  64  72  80]\n",
       "[  9  18  27  36  45  54  63  72  81  90]\n",
       "[ 10  20  30  40  50  60  70  80  90 100]"
      ]
     },
     "execution_count": 82,
     "metadata": {},
     "output_type": "execute_result"
    }
   ],
   "source": [
    "Matrix([   ([x * y for y in range(1, 11)]) for x in range(1,11)])"
   ]
  },
  {
   "cell_type": "code",
   "execution_count": 86,
   "metadata": {},
   "outputs": [
    {
     "data": {
      "text/plain": [
       "16"
      ]
     },
     "execution_count": 86,
     "metadata": {},
     "output_type": "execute_result"
    }
   ],
   "source": [
    "x = [ ([binomial(n,k) for k in range(n + 1)]) for n in range(16)]"
   ]
  },
  {
   "cell_type": "code",
   "execution_count": 91,
   "metadata": {},
   "outputs": [],
   "source": [
    "var(\"p,x\")\n",
    "def poly(n):\n",
    "  return sum(x^p, p, 0, n - 1)"
   ]
  },
  {
   "cell_type": "code",
   "execution_count": 94,
   "metadata": {},
   "outputs": [
    {
     "data": {
      "text/plain": [
       "x^100 - 1"
      ]
     },
     "execution_count": 94,
     "metadata": {},
     "output_type": "execute_result"
    }
   ],
   "source": [
    "(poly(100) * (x - 1)).simplify_full()"
   ]
  },
  {
   "cell_type": "code",
   "execution_count": 95,
   "metadata": {},
   "outputs": [
    {
     "data": {
      "text/plain": [
       "[1,\n",
       " x + 1,\n",
       " x^2 + x + 1,\n",
       " (x^2 + 1)*(x + 1),\n",
       " x^4 + x^3 + x^2 + x + 1,\n",
       " (x^2 + x + 1)*(x^2 - x + 1)*(x + 1),\n",
       " x^6 + x^5 + x^4 + x^3 + x^2 + x + 1,\n",
       " (x^4 + 1)*(x^2 + 1)*(x + 1),\n",
       " (x^6 + x^3 + 1)*(x^2 + x + 1),\n",
       " (x^4 + x^3 + x^2 + x + 1)*(x^4 - x^3 + x^2 - x + 1)*(x + 1),\n",
       " x^10 + x^9 + x^8 + x^7 + x^6 + x^5 + x^4 + x^3 + x^2 + x + 1,\n",
       " (x^4 - x^2 + 1)*(x^2 + x + 1)*(x^2 - x + 1)*(x^2 + 1)*(x + 1),\n",
       " x^12 + x^11 + x^10 + x^9 + x^8 + x^7 + x^6 + x^5 + x^4 + x^3 + x^2 + x + 1,\n",
       " (x^6 + x^5 + x^4 + x^3 + x^2 + x + 1)*(x^6 - x^5 + x^4 - x^3 + x^2 - x + 1)*(x + 1),\n",
       " (x^8 - x^7 + x^5 - x^4 + x^3 - x + 1)*(x^4 + x^3 + x^2 + x + 1)*(x^2 + x + 1),\n",
       " (x^8 + 1)*(x^4 + 1)*(x^2 + 1)*(x + 1),\n",
       " x^16 + x^15 + x^14 + x^13 + x^12 + x^11 + x^10 + x^9 + x^8 + x^7 + x^6 + x^5 + x^4 + x^3 + x^2 + x + 1,\n",
       " (x^6 + x^3 + 1)*(x^6 - x^3 + 1)*(x^2 + x + 1)*(x^2 - x + 1)*(x + 1),\n",
       " x^18 + x^17 + x^16 + x^15 + x^14 + x^13 + x^12 + x^11 + x^10 + x^9 + x^8 + x^7 + x^6 + x^5 + x^4 + x^3 + x^2 + x + 1,\n",
       " (x^8 - x^6 + x^4 - x^2 + 1)*(x^4 + x^3 + x^2 + x + 1)*(x^4 - x^3 + x^2 - x + 1)*(x^2 + 1)*(x + 1)]"
      ]
     },
     "execution_count": 95,
     "metadata": {},
     "output_type": "execute_result"
    }
   ],
   "source": [
    "[factor(poly(n)) for n in range(1,21)]"
   ]
  },
  {
   "cell_type": "code",
   "execution_count": 96,
   "metadata": {},
   "outputs": [
    {
     "data": {
      "text/plain": [
       "[x - 1,\n",
       " x + 1,\n",
       " x^2 + x + 1,\n",
       " x^2 + 1,\n",
       " x^4 + x^3 + x^2 + x + 1,\n",
       " x^2 - x + 1,\n",
       " x^6 + x^5 + x^4 + x^3 + x^2 + x + 1,\n",
       " x^4 + 1,\n",
       " x^6 + x^3 + 1,\n",
       " x^4 - x^3 + x^2 - x + 1,\n",
       " x^10 + x^9 + x^8 + x^7 + x^6 + x^5 + x^4 + x^3 + x^2 + x + 1,\n",
       " x^4 - x^2 + 1,\n",
       " x^12 + x^11 + x^10 + x^9 + x^8 + x^7 + x^6 + x^5 + x^4 + x^3 + x^2 + x + 1,\n",
       " x^6 - x^5 + x^4 - x^3 + x^2 - x + 1,\n",
       " x^8 - x^7 + x^5 - x^4 + x^3 - x + 1,\n",
       " x^8 + 1,\n",
       " x^16 + x^15 + x^14 + x^13 + x^12 + x^11 + x^10 + x^9 + x^8 + x^7 + x^6 + x^5 + x^4 + x^3 + x^2 + x + 1,\n",
       " x^6 - x^3 + 1,\n",
       " x^18 + x^17 + x^16 + x^15 + x^14 + x^13 + x^12 + x^11 + x^10 + x^9 + x^8 + x^7 + x^6 + x^5 + x^4 + x^3 + x^2 + x + 1,\n",
       " x^8 - x^6 + x^4 - x^2 + 1]"
      ]
     },
     "execution_count": 96,
     "metadata": {},
     "output_type": "execute_result"
    }
   ],
   "source": [
    "[cyclotomic_polynomial(n)for n in range(1,21)]"
   ]
  },
  {
   "cell_type": "code",
   "execution_count": 98,
   "metadata": {},
   "outputs": [
    {
     "data": {
      "text/plain": [
       "x^(n + 1)*log(x)^2/(x - 1)"
      ]
     },
     "execution_count": 98,
     "metadata": {},
     "output_type": "execute_result"
    }
   ],
   "source": [
    "diff(poly(n + 1), n, n )"
   ]
  },
  {
   "cell_type": "code",
   "execution_count": 116,
   "metadata": {},
   "outputs": [],
   "source": [
    "var(\"i,z\");\n",
    "\n",
    "def unity_root(n):\n",
    "  return i.nth_root(n)\n",
    "  return solve(z^n == 1, z)"
   ]
  },
  {
   "cell_type": "code",
   "execution_count": 115,
   "metadata": {},
   "outputs": [
    {
     "ename": "ValueError",
     "evalue": "cannot take even root of negative number",
     "output_type": "error",
     "traceback": [
      "\u001b[0;31m---------------------------------------------------------------------------\u001b[0m",
      "\u001b[0;31mValueError\u001b[0m                                Traceback (most recent call last)",
      "Cell \u001b[0;32mIn[115], line 1\u001b[0m\n\u001b[0;32m----> 1\u001b[0m \u001b[43m[\u001b[49m\u001b[43munity_root\u001b[49m\u001b[43m(\u001b[49m\u001b[43mn\u001b[49m\u001b[43m)\u001b[49m\u001b[43m \u001b[49m\u001b[38;5;28;43;01mfor\u001b[39;49;00m\u001b[43m \u001b[49m\u001b[43mn\u001b[49m\u001b[43m \u001b[49m\u001b[38;5;129;43;01min\u001b[39;49;00m\u001b[43m \u001b[49m\u001b[38;5;28;43mrange\u001b[39;49m\u001b[43m(\u001b[49m\u001b[43mInteger\u001b[49m\u001b[43m(\u001b[49m\u001b[38;5;241;43m1\u001b[39;49m\u001b[43m)\u001b[49m\u001b[43m,\u001b[49m\u001b[43m \u001b[49m\u001b[43mInteger\u001b[49m\u001b[43m(\u001b[49m\u001b[38;5;241;43m13\u001b[39;49m\u001b[43m)\u001b[49m\u001b[43m)\u001b[49m\u001b[43m]\u001b[49m\n",
      "Cell \u001b[0;32mIn[115], line 1\u001b[0m, in \u001b[0;36m<listcomp>\u001b[0;34m(.0)\u001b[0m\n\u001b[0;32m----> 1\u001b[0m [\u001b[43munity_root\u001b[49m\u001b[43m(\u001b[49m\u001b[43mn\u001b[49m\u001b[43m)\u001b[49m \u001b[38;5;28;01mfor\u001b[39;00m n \u001b[38;5;129;01min\u001b[39;00m \u001b[38;5;28mrange\u001b[39m(Integer(\u001b[38;5;241m1\u001b[39m), Integer(\u001b[38;5;241m13\u001b[39m))]\n",
      "Cell \u001b[0;32mIn[114], line 4\u001b[0m, in \u001b[0;36munity_root\u001b[0;34m(n)\u001b[0m\n\u001b[1;32m      3\u001b[0m \u001b[38;5;28;01mdef\u001b[39;00m \u001b[38;5;21munity_root\u001b[39m(n):\n\u001b[0;32m----> 4\u001b[0m   \u001b[38;5;28;01mreturn\u001b[39;00m \u001b[43m(\u001b[49m\u001b[38;5;241;43m-\u001b[39;49m\u001b[43mInteger\u001b[49m\u001b[43m(\u001b[49m\u001b[38;5;241;43m1\u001b[39;49m\u001b[43m)\u001b[49m\u001b[43m)\u001b[49m\u001b[38;5;241;43m.\u001b[39;49m\u001b[43mnth_root\u001b[49m\u001b[43m(\u001b[49m\u001b[43mn\u001b[49m\u001b[43m)\u001b[49m\n\u001b[1;32m      5\u001b[0m   \u001b[38;5;28;01mreturn\u001b[39;00m solve(z\u001b[38;5;241m*\u001b[39m\u001b[38;5;241m*\u001b[39mn \u001b[38;5;241m==\u001b[39m Integer(\u001b[38;5;241m1\u001b[39m), z)\n",
      "File \u001b[0;32m~/miniforge3/envs/sage/lib/python3.11/site-packages/sage/rings/integer.pyx:2425\u001b[0m, in \u001b[0;36msage.rings.integer.Integer.nth_root (build/cythonized/sage/rings/integer.c:26486)\u001b[0;34m()\u001b[0m\n\u001b[1;32m   2423\u001b[0m     raise ValueError(\"n (=%s) must be positive\" % n)\n\u001b[1;32m   2424\u001b[0m if (mpz_sgn(self.value) < 0) and not (n & 1):\n\u001b[0;32m-> 2425\u001b[0m     raise ValueError(\"cannot take even root of negative number\")\n\u001b[1;32m   2426\u001b[0m cdef Integer x\n\u001b[1;32m   2427\u001b[0m cdef bint is_exact\n",
      "\u001b[0;31mValueError\u001b[0m: cannot take even root of negative number"
     ]
    }
   ],
   "source": [
    "[unity_root(n) for n in range(1, 13)]"
   ]
  },
  {
   "cell_type": "code",
   "execution_count": null,
   "metadata": {},
   "outputs": [],
   "source": []
  }
 ],
 "metadata": {
  "kernelspec": {
   "display_name": "SageMath 10.4",
   "language": "sage",
   "name": "sagemath"
  },
  "language_info": {
   "codemirror_mode": {
    "name": "ipython",
    "version": 3
   },
   "file_extension": ".py",
   "mimetype": "text/x-python",
   "name": "python",
   "nbconvert_exporter": "python",
   "pygments_lexer": "ipython3",
   "version": "3.11.10"
  }
 },
 "nbformat": 4,
 "nbformat_minor": 2
}
