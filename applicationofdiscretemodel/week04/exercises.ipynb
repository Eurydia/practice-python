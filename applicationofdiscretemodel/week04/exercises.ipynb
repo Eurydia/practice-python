{
 "cells": [
  {
   "cell_type": "code",
   "execution_count": 1,
   "metadata": {},
   "outputs": [],
   "source": [
    "# Implement the Euclidean algorithm: write a function that calculates gcd(a, b) for a, b ∈ N+,\n",
    "# using remainders.\n",
    "\n",
    "def gcd_1(a: int, b: int) -> int:\n",
    "  while b != 0:\n",
    "    t = b\n",
    "    b = a % b\n",
    "    a = t\n",
    "  return a"
   ]
  },
  {
   "cell_type": "code",
   "execution_count": 2,
   "metadata": {},
   "outputs": [],
   "source": [
    "# Write a function that calculates lcm(a, b) from gcd(a, b).\n",
    "\n",
    "\n",
    "# Theorem 1.8. The prime factorization of lcm(a, b) contains exactly those prime numbers which are\n",
    "# present in either a or b, with the greater exponent of the two.\n",
    "\n",
    "def lcm_from_gcd_1(a: int, b: int) -> int:\n",
    "  return a * b // gcd_1(a, b)"
   ]
  },
  {
   "cell_type": "code",
   "execution_count": 3,
   "metadata": {},
   "outputs": [],
   "source": [
    "# Implement the extended Euclidean algorithm: write a function that, for given a, b ∈ N+,\n",
    "# calculates gcd(a, b) and the Bézout coefficients for a and b\n",
    "\n",
    "def ext_eucl_algo(a: int, b: int) -> tuple[int, list[int, int]]:\n",
    "  r_prime, r = a, b\n",
    "  x_prime, x = 1, 0\n",
    "  y_prime, y = 0, 1 \n",
    "  while r != 0:\n",
    "    q = r_prime // r\n",
    "    r_prime, r = r, r_prime - q * r\n",
    "    x_prime, x = x, x_prime - q * x\n",
    "    y_prime, y = y, y_prime - q * y\n",
    "  return r_prime, [x_prime, y_prime]\n"
   ]
  },
  {
   "cell_type": "code",
   "execution_count": null,
   "metadata": {},
   "outputs": [],
   "source": [
    "# On an island, there are 7-headed and 11-headed dragons. The total number of dragon heads is\n",
    "# 160. How many dragons of each type are on the island? Solve the problem generally: write a\n",
    "# function that receives a, b, c ∈ N+, where the dragons have a or b heads, and the total number\n",
    "# of heads on the island is c; the function returns all possibilities in a list, where each element is\n",
    "# a pair (the number of a-headed and b-headed dragons, respectively). For example, it returns\n",
    "# [(4, 12), (15, 5)] for the above question. (Don’t use brute force search.)\n",
    "\n",
    "\n",
    "# Theorem 4.2. If the linear Diophantine equation ax + by = c has a solution, x0 and y0, then all\n",
    "# solutions can be written as follows: x = x0 − k · b\n",
    "# gcd(a, b) and y = y0 + k · a\n",
    "# gcd(a, b), where k is an\n",
    "# arbitrary integer.\n",
    "\n",
    "vars(\"x0, y0, k\")\n",
    "def draconic_population(a: int, b:int, c:int) -> tuple[int,int]:\n",
    "  r,[x,y] = ext_eucl_algo(a,b)\n",
    "  multiplier = c/r\n",
    "  x0 = x * multiplier\n",
    "  y0 = y * multiplier\n",
    "  \n",
    "  "
   ]
  }
 ],
 "metadata": {
  "kernelspec": {
   "display_name": "SageMath 10.4",
   "language": "sage",
   "name": "sagemath"
  },
  "language_info": {
   "codemirror_mode": {
    "name": "ipython",
    "version": 3
   },
   "file_extension": ".py",
   "mimetype": "text/x-python",
   "name": "python",
   "nbconvert_exporter": "python",
   "pygments_lexer": "ipython3",
   "version": "3.11.10"
  }
 },
 "nbformat": 4,
 "nbformat_minor": 2
}
