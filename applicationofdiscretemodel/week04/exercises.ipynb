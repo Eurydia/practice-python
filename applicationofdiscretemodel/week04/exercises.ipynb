{
 "cells": [
  {
   "cell_type": "code",
   "execution_count": 8,
   "metadata": {},
   "outputs": [],
   "source": [
    "# Implement the Euclidean algorithm: write a function that calculates gcd(a, b) for a, b ∈ N+,\n",
    "# using remainders.\n",
    "\n",
    "def gcd_1(a: int, b: int) -> int:\n",
    "  while b != 0:\n",
    "    t = b\n",
    "    b = a % b\n",
    "    a = t\n",
    "  return a"
   ]
  },
  {
   "cell_type": "code",
   "execution_count": 9,
   "metadata": {},
   "outputs": [],
   "source": [
    "# Write a function that calculates lcm(a, b) from gcd(a, b).\n",
    "\n",
    "\n",
    "# Theorem 1.8. The prime factorization of lcm(a, b) contains exactly those prime numbers which are\n",
    "# present in either a or b, with the greater exponent of the two.\n",
    "\n",
    "def lcm_from_gcd_1(a: int, b: int) -> int:\n",
    "  return a * b // gcd_1(a, b)"
   ]
  },
  {
   "cell_type": "code",
   "execution_count": 10,
   "metadata": {},
   "outputs": [],
   "source": [
    "# Implement the extended Euclidean algorithm: write a function that, for given a, b ∈ N+,\n",
    "# calculates gcd(a, b) and the Bézout coefficients for a and b\n",
    "\n",
    "def ext_eucl_algo(a: int, b: int) -> tuple[int, list[int, int]]:\n",
    "  r_prime, r = a, b\n",
    "  x_prime, x = 1, 0\n",
    "  y_prime, y = 0, 1 \n",
    "  while r != 0:\n",
    "    q = r_prime // r\n",
    "    r_prime, r = r, r_prime - q * r\n",
    "    x_prime, x = x, x_prime - q * x\n",
    "    y_prime, y = y, y_prime - q * y\n",
    "  return r_prime, [x_prime, y_prime]\n"
   ]
  },
  {
   "cell_type": "code",
   "execution_count": 107,
   "metadata": {},
   "outputs": [
    {
     "name": "stdout",
     "output_type": "stream",
     "text": [
      "y == 7*k + 320\n"
     ]
    }
   ],
   "source": [
    "# On an island, there are 7-headed and 11-headed dragons. The total number of dragon heads is\n",
    "# 160. How many dragons of each type are on the island? Solve the problem generally: write a\n",
    "# function that receives a, b, c ∈ N+, where the dragons have a or b heads, and the total number\n",
    "# of heads on the island is c; the function returns all possibilities in a list, where each element is\n",
    "# a pair (the number of a-headed and b-headed dragons, respectively). For example, it returns\n",
    "# [(4, 12), (15, 5)] for the above question. (Don’t use brute force search.)\n",
    "\n",
    "\n",
    "# Theorem 4.2. If the linear Diophantine equation ax + by = c has a solution, x0 and y0, then all\n",
    "# solutions can be written as follows: x = x0 − k · b\n",
    "# gcd(a, b) and y = y0 + k · a\n",
    "# gcd(a, b), where k is an\n",
    "# arbitrary integer.\n",
    "\n",
    "var(\"x,y,a,b,c,k\")\n",
    "def draconic_population(a_: int, b_:int, c_:int) -> tuple[int,int]:\n",
    "  gcd_ab,x0,y0 = xgcd(a_,b_)\n",
    "  if (gcd_ab != c_ and c_ % gcd_ab != 0):\n",
    "    return [-1,-1]\n",
    "  \n",
    "  factor = c_/gcd_ab\n",
    "  xn  = x0*factor\n",
    "  yn = y0*factor\n",
    "  # eq0 = (factor * a_*x)+(factor * b_*y)==c_\n",
    "  # print(eq0.substitute(x=x0,y=y0))\n",
    "  # return\n",
    "  \n",
    "  eq0 = (x==(xn)-(k*(b_/gcd_ab)))\n",
    "  eq1 = (y==(yn)+(k*(a_/gcd_ab)))\n",
    "\n",
    "  eq2 = eq0.right() \n",
    "  eq3 = eq1.right() \n",
    "  print(eq2, eq3)\n",
    "\n",
    "  k_ = solve_ineq([eq2 >=0, eq3 >= 0],[k])\n",
    "\n",
    "  print(k_)\n",
    "  # return\n",
    "  # xn = solve(eq0.substitute(k=k_), x)\n",
    "  # yn = solve(eq1.substitute(k=k_), y)\n",
    "  # print(xn,yn)\n",
    "\n",
    "draconic_population(7,11,160)\n"
   ]
  },
  {
   "cell_type": "code",
   "execution_count": 98,
   "metadata": {},
   "outputs": [
    {
     "name": "stdout",
     "output_type": "stream",
     "text": [
      "-11*k + 160*x >= 0 7*k + 160*y >= 0\n",
      "[[k == 160/11*x, 7*x + 11*y == 0], [k == -160/7*y, 7840*x + 12320*y > 0], [k == 160/11*x, 12320*x + 19360*y > 0], [-160/7*y < k, k < 160/11*x, 86240*x + 135520*y > 0]]\n"
     ]
    }
   ],
   "source": [
    "draconic_population(7,11,160)"
   ]
  },
  {
   "cell_type": "code",
   "execution_count": 34,
   "metadata": {},
   "outputs": [
    {
     "data": {
      "text/plain": [
       "(1, -3, 2)"
      ]
     },
     "execution_count": 34,
     "metadata": {},
     "output_type": "execute_result"
    }
   ],
   "source": [
    "xgcd(7,11)"
   ]
  }
 ],
 "metadata": {
  "kernelspec": {
   "display_name": "SageMath 10.4",
   "language": "sage",
   "name": "sagemath"
  },
  "language_info": {
   "codemirror_mode": {
    "name": "ipython",
    "version": 3
   },
   "file_extension": ".py",
   "mimetype": "text/x-python",
   "name": "python",
   "nbconvert_exporter": "python",
   "pygments_lexer": "ipython3",
   "version": "3.11.10"
  }
 },
 "nbformat": 4,
 "nbformat_minor": 2
}
