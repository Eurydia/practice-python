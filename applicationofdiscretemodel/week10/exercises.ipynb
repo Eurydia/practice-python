{
 "cells": [
  {
   "cell_type": "code",
   "execution_count": 6,
   "metadata": {},
   "outputs": [
    {
     "name": "stdout",
     "output_type": "stream",
     "text": [
      "114 35760 114\n"
     ]
    }
   ],
   "source": [
    "def gen_rsa_key_pair():\n",
    "  private_key, public_key = None, None\n",
    "  \n",
    "  p, q = random_prime(1000), random_prime(1000)\n",
    "  n = p * q\n",
    "  phi_n = (p - 1) * (q - 1)\n",
    "\n",
    "  public_key = 3  \n",
    "  while public_key < phi_n and gcd(public_key, phi_n) != 1:\n",
    "    public_key += 2\n",
    "  \n",
    "  var(\"x\")\n",
    "  (private_key, ), *_rest = solve_mod(public_key * x == 1, phi_n)\n",
    "\n",
    "  return n, public_key, private_key\n",
    "\n",
    "gen_rsa_key_pair()\n",
    "\n",
    "\n",
    "pw = randint(1, 1000)\n",
    "n, k_public, k_private = gen_rsa_key_pair()\n",
    "encrypted_pw = power_mod(pw, k_public, n)\n",
    "decrypted_pw = power_mod(encrypted_pw, k_private, n)\n",
    "print(pw, encrypted_pw, decrypted_pw)\n"
   ]
  },
  {
   "cell_type": "code",
   "execution_count": 11,
   "metadata": {},
   "outputs": [
    {
     "data": {
      "text/plain": [
       "114"
      ]
     },
     "execution_count": 11,
     "metadata": {},
     "output_type": "execute_result"
    }
   ],
   "source": [
    "def break_encryption(ciphertext: int, n: int, k_public: int):\n",
    "  var(\"m\")\n",
    "  (decrypt_msg, ),*_rest = solve_mod(ciphertext == m^k_public, n)\n",
    "  return decrypt_msg\n",
    "  \n",
    "break_encryption(encrypted_pw, n, k_public)"
   ]
  }
 ],
 "metadata": {
  "kernelspec": {
   "display_name": "SageMath 10.4",
   "language": "sage",
   "name": "sagemath"
  },
  "language_info": {
   "codemirror_mode": {
    "name": "ipython",
    "version": 3
   },
   "file_extension": ".py",
   "mimetype": "text/x-python",
   "name": "python",
   "nbconvert_exporter": "python",
   "pygments_lexer": "ipython3",
   "version": "3.11.10"
  }
 },
 "nbformat": 4,
 "nbformat_minor": 2
}
