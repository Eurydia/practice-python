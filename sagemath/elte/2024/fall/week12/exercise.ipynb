{
 "cells": [
  {
   "cell_type": "code",
   "execution_count": 14,
   "metadata": {
    "vscode": {
     "languageId": "python"
    }
   },
   "outputs": [],
   "source": [
    "def is_commutative(elements):\n",
    "    for a in elements:\n",
    "      for b in elements:\n",
    "        if (a * b) != (b * a):\n",
    "          return False\n",
    "    return True"
   ]
  },
  {
   "cell_type": "code",
   "execution_count": 18,
   "metadata": {
    "vscode": {
     "languageId": "python"
    }
   },
   "outputs": [
    {
     "name": "stdout",
     "output_type": "stream",
     "text": [
      "True\n",
      "False\n"
     ]
    }
   ],
   "source": [
    "print(is_commutative(Zmod(10).list()))\n",
    "print(is_commutative(Mat(Zmod(3), 2).list()))"
   ]
  },
  {
   "cell_type": "code",
   "execution_count": 6,
   "metadata": {
    "vscode": {
     "languageId": "python"
    }
   },
   "outputs": [],
   "source": [
    "def get_zero(elements):\n",
    "  for a in elements:\n",
    "    for z in elements:\n",
    "      if a + z == a:\n",
    "        return z\n",
    "  raise ValueError(\"No zero element in ring\")\n",
    "      "
   ]
  },
  {
   "cell_type": "code",
   "execution_count": 19,
   "metadata": {
    "vscode": {
     "languageId": "python"
    }
   },
   "outputs": [
    {
     "name": "stdout",
     "output_type": "stream",
     "text": [
      "0\n",
      "[0 0]\n",
      "[0 0]\n"
     ]
    }
   ],
   "source": [
    "print(get_zero(Zmod(10).list()))\n",
    "print(get_zero(Mat(Zmod(3), 2).list()))"
   ]
  },
  {
   "cell_type": "code",
   "execution_count": null,
   "metadata": {
    "vscode": {
     "languageId": "python"
    }
   },
   "outputs": [],
   "source": []
  },
  {
   "cell_type": "code",
   "execution_count": 48,
   "metadata": {
    "vscode": {
     "languageId": "python"
    }
   },
   "outputs": [],
   "source": [
    "def get_iden(elements):\n",
    "  z = get_zero(elements)\n",
    "  for iden in elements:\n",
    "    if (iden == z):\n",
    "      continue\n",
    "    for a in elements:\n",
    "      if (a == z):\n",
    "        continue\n",
    "      if (a * iden) == a and (iden * a) == a:\n",
    "        return iden\n",
    "  return None"
   ]
  },
  {
   "cell_type": "code",
   "execution_count": 42,
   "metadata": {
    "vscode": {
     "languageId": "python"
    }
   },
   "outputs": [
    {
     "name": "stdout",
     "output_type": "stream",
     "text": [
      "1\n",
      "None\n",
      "None\n"
     ]
    }
   ],
   "source": [
    "print(get_iden(Zmod(10).list()))\n",
    "print(get_iden(map((lambda x: x * 2), Zmod(20).list())))\n",
    "print(get_iden(map((lambda x: x * 2), Zmod(10).list())))\n"
   ]
  },
  {
   "cell_type": "code",
   "execution_count": null,
   "metadata": {
    "vscode": {
     "languageId": "python"
    }
   },
   "outputs": [],
   "source": [
    "def get_zero_divisor(elements):\n",
    "  z = get_zero(elements)\n",
    "  for a in elements:\n",
    "    if a == z:\n",
    "      continue\n",
    "    for b in elements:\n",
    "      if b == z:\n",
    "        continue\n",
    "      if a * b == z and b * a == z:\n",
    "        return a\n",
    "  return None"
   ]
  },
  {
   "cell_type": "code",
   "execution_count": 29,
   "metadata": {
    "vscode": {
     "languageId": "python"
    }
   },
   "outputs": [
    {
     "name": "stdout",
     "output_type": "stream",
     "text": [
      "None\n",
      "2\n"
     ]
    }
   ],
   "source": [
    "print(get_zero_divisor(Zmod(5).list()))\n",
    "print(get_zero_divisor(Zmod(6).list()))"
   ]
  },
  {
   "cell_type": "code",
   "execution_count": 31,
   "metadata": {
    "vscode": {
     "languageId": "python"
    }
   },
   "outputs": [],
   "source": [
    "def is_integeral_domain(elements):\n",
    "  return is_commutative(elements) and get_iden(elements) != None and get_zero_divisor(elements) == None"
   ]
  },
  {
   "cell_type": "code",
   "execution_count": 34,
   "metadata": {
    "vscode": {
     "languageId": "python"
    }
   },
   "outputs": [
    {
     "name": "stdout",
     "output_type": "stream",
     "text": [
      "1 True\n",
      "2 True\n",
      "3 True\n",
      "4 False\n",
      "5 True\n",
      "6 False\n",
      "7 True\n",
      "8 False\n",
      "9 False\n",
      "10 False\n",
      "11 True\n",
      "12 False\n",
      "13 True\n",
      "14 False\n",
      "15 False\n",
      "16 False\n",
      "17 True\n",
      "18 False\n",
      "19 True\n",
      "20 False\n"
     ]
    }
   ],
   "source": [
    "for m in range(1,21):\n",
    "  print(m, is_integeral_domain(Zmod(m).list()))"
   ]
  },
  {
   "cell_type": "code",
   "execution_count": 77,
   "metadata": {
    "vscode": {
     "languageId": "python"
    }
   },
   "outputs": [],
   "source": [
    "Z6 = Zmod(6)\n",
    "P.<x> = Z6[]\n",
    "elements = Z6.list() \n",
    "z = get_zero(elements)\n",
    "for c2 in elements:\n",
    "    if (c2 == z):\n",
    "        continue\n",
    "    for c1 in elements:\n",
    "        for c0 in elements:\n",
    "            p = P([c0, c1, c2])\n",
    "            # print(p)\n",
    "            try:\n",
    "                r= list(p.roots(multiplicities=False))\n",
    "                if (len(r) == 6):\n",
    "                    print(r)\n",
    "            except:\n",
    "                continue\n",
    "# # p = P([1*2, 3*5, 6 * 4])\n",
    "# # p.roots(multiplicities=False)\n",
    "# # (x - k)(x- v)\n",
    "# # so we have x = k or x = v\n",
    "# # we can let k and v be two numbers st. k = 1 * 3 v = 2 * 4, \n",
    "# p = (x - 3)*(x-2) \n",
    "# p.roots(multiplicities=False)"
   ]
  },
  {
   "cell_type": "code",
   "execution_count": null,
   "metadata": {
    "vscode": {
     "languageId": "python"
    }
   },
   "outputs": [],
   "source": []
  }
 ],
 "metadata": {
  "kernelspec": {
   "display_name": "SageMath 10.4",
   "language": "sage",
   "name": "sagemath"
  },
  "language_info": {
   "codemirror_mode": {
    "name": "ipython",
    "version": 3
   },
   "file_extension": ".py",
   "mimetype": "text/x-python",
   "name": "sage",
   "nbconvert_exporter": "python",
   "pygments_lexer": "ipython3",
   "version": "3.11.10"
  }
 },
 "nbformat": 4,
 "nbformat_minor": 2
}
