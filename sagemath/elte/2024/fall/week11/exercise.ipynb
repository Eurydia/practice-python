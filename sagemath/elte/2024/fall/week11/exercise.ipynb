{
 "cells": [
  {
   "cell_type": "code",
   "execution_count": 60,
   "metadata": {},
   "outputs": [
    {
     "data": {
      "text/plain": [
       "(x - 1, 1/6, -1/3*x - 5/6)"
      ]
     },
     "execution_count": 60,
     "metadata": {},
     "output_type": "execute_result"
    }
   ],
   "source": [
    "# Ex.6\n",
    "Q.<x> = QQ[]\n",
    "def poly_gcd(a,b):\n",
    "  while b != 0:\n",
    "    t = b\n",
    "    b = a % b\n",
    "    a = t\n",
    "  return a\n",
    "\n",
    "def poly_xgcd(a,b):\n",
    "  r_prime, r = a, b\n",
    "  x_prime, x = 1, 0\n",
    "  y_prime, y = 0, 1 \n",
    "  while r != 0:\n",
    "    q = r_prime // r\n",
    "    r_prime, r = r, r_prime - q * r\n",
    "    x_prime, x = x, x_prime - q * x\n",
    "    y_prime, y = y, y_prime - q * y\n",
    "  return r_prime, [x_prime, y_prime]\n",
    "\n",
    "a = 2*x^3 + x^2 - 2*x - 1 \n",
    "b = x^2 - 2*x + 1\n",
    "\n",
    "\n",
    "poly_gcd(a,b)\n",
    "# poly_xgcd(a,b)\n",
    "xgcd(a,b)\n",
    "# gcd(a,b)"
   ]
  },
  {
   "cell_type": "code",
   "execution_count": 44,
   "metadata": {},
   "outputs": [
    {
     "data": {
      "text/plain": [
       "{1}"
      ]
     },
     "execution_count": 44,
     "metadata": {},
     "output_type": "execute_result"
    }
   ],
   "source": [
    "\n",
    "# Ex.7\n",
    "P.<x> = ZZ[]\n",
    "p = 2*x^3  + x^2 - 2*x - 1\n",
    "q = x^2 - 2*x + 1\n",
    "\n",
    "p_roots = set(p.roots(multiplicities=False))\n",
    "q_roots = set(q.roots(multiplicities=False))  \n",
    "\n",
    "p_roots.intersection(q_roots)"
   ]
  },
  {
   "cell_type": "code",
   "execution_count": 42,
   "metadata": {},
   "outputs": [
    {
     "data": {
      "text/plain": [
       "[(6, 1), (7, 2)]"
      ]
     },
     "execution_count": 42,
     "metadata": {},
     "output_type": "execute_result"
    }
   ],
   "source": [
    "# Ex.8\n",
    "def diff_poly(p: sage.rings.polynomial.polynomial_integer_dense_flint.Polynomial_integer_dense_flint) -> sage.rings.polynomial.polynomial_integer_dense_flint.Polynomial_integer_dense_flint:\n",
    "    q  = prod([(x-i)^(c-1) for (i, c) in p.roots()])\n",
    "    return q\n",
    "\n",
    "diff_poly((x-5)*(x-6)^2*(x-7)^3).roots()"
   ]
  },
  {
   "cell_type": "code",
   "execution_count": 47,
   "metadata": {},
   "outputs": [
    {
     "data": {
      "text/plain": [
       "[(5, 1), (6, 2), (7, 3)]"
      ]
     },
     "execution_count": 47,
     "metadata": {},
     "output_type": "execute_result"
    }
   ],
   "source": [
    "# Ex.9a\n",
    "p = (x-5)*(x-6)^2*(x-7)^3\n",
    "p.roots()"
   ]
  },
  {
   "cell_type": "code",
   "execution_count": 48,
   "metadata": {},
   "outputs": [
    {
     "data": {
      "text/plain": [
       "[(6, 1), (7, 2)]"
      ]
     },
     "execution_count": 48,
     "metadata": {},
     "output_type": "execute_result"
    }
   ],
   "source": [
    "# Ex.9b\n",
    "gcd(p, p.diff()).roots()\n",
    "# The multiplicities each of root is reduced by one."
   ]
  },
  {
   "cell_type": "code",
   "execution_count": 49,
   "metadata": {},
   "outputs": [
    {
     "data": {
      "text/plain": [
       "[(7, 1), (6, 1), (5, 1)]"
      ]
     },
     "execution_count": 49,
     "metadata": {},
     "output_type": "execute_result"
    }
   ],
   "source": [
    "# Ex.9c\n",
    "q= p // gcd(p, p.diff())\n",
    "q.roots()\n",
    "# The roots of q are the same as the roots of p with multiplicity one."
   ]
  }
 ],
 "metadata": {
  "kernelspec": {
   "display_name": "SageMath 10.4",
   "language": "sage",
   "name": "sagemath"
  },
  "language_info": {
   "codemirror_mode": {
    "name": "ipython",
    "version": 3
   },
   "file_extension": ".py",
   "mimetype": "text/x-python",
   "name": "python",
   "nbconvert_exporter": "python",
   "pygments_lexer": "ipython3",
   "version": "3.11.10"
  }
 },
 "nbformat": 4,
 "nbformat_minor": 2
}
