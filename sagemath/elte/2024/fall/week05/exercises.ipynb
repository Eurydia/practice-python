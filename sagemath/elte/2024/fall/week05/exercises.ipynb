{
 "cells": [
  {
   "cell_type": "code",
   "execution_count": 27,
   "metadata": {},
   "outputs": [],
   "source": [
    "\n",
    "# # 1.D rite a function that receives a (potentially incorrect) bank account number and the index\n",
    "# of the single wrong digit, and it returns the correct number.\n",
    "\n",
    "def correct_wrong_digit(acc_number: str, bad_index: int ) -> str:\n",
    "  partitions: list[str] = acc_number.split(\"-\")\n",
    "  digits: list[int] = []\n",
    "  for chunk in partitions:\n",
    "    for digit in chunk:\n",
    "      digits.append(int(digit))\n",
    "\n",
    "  correct_digit_sum = 0\n",
    "  correctors = [1,3,7,9]\n",
    "  for i, digit in enumerate(digits):\n",
    "    if (i == bad_index):\n",
    "      continue\n",
    "    correct_digit_sum += (digit * correctors[i % 4])\n",
    "\n",
    "  # need x such that (correct_sum + x*corrector[bad_index % 4]) % 10 == 0\n",
    "  var(\"x\")\n",
    "  r = solve_mod(correctors[bad_index % 4] * x == correct_digit_sum, 10)\n",
    "  return r"
   ]
  },
  {
   "cell_type": "code",
   "execution_count": 26,
   "metadata": {},
   "outputs": [
    {
     "ename": "TypeError",
     "evalue": "'int' object is not iterable",
     "output_type": "error",
     "traceback": [
      "\u001b[0;31m---------------------------------------------------------------------------\u001b[0m",
      "\u001b[0;31mTypeError\u001b[0m                                 Traceback (most recent call last)",
      "Cell \u001b[0;32mIn[26], line 1\u001b[0m\n\u001b[0;32m----> 1\u001b[0m \u001b[43mcorrect_wrong_digit\u001b[49m\u001b[43m(\u001b[49m\u001b[38;5;124;43m\"\u001b[39;49m\u001b[38;5;124;43m10402196-50526765-81771006\u001b[39;49m\u001b[38;5;124;43m\"\u001b[39;49m\u001b[43m,\u001b[49m\u001b[43m \u001b[49m\u001b[43mInteger\u001b[49m\u001b[43m(\u001b[49m\u001b[38;5;241;43m3\u001b[39;49m\u001b[43m)\u001b[49m\u001b[43m)\u001b[49m\n",
      "Cell \u001b[0;32mIn[25], line 21\u001b[0m, in \u001b[0;36mcorrect_wrong_digit\u001b[0;34m(acc_number, bad_index)\u001b[0m\n\u001b[1;32m     19\u001b[0m var(\u001b[38;5;124m\"\u001b[39m\u001b[38;5;124mx\u001b[39m\u001b[38;5;124m\"\u001b[39m)\n\u001b[1;32m     20\u001b[0m (r,) \u001b[38;5;241m=\u001b[39m solve_mod(correctors[bad_index \u001b[38;5;241m%\u001b[39m Integer(\u001b[38;5;241m4\u001b[39m)] \u001b[38;5;241m*\u001b[39m x \u001b[38;5;241m==\u001b[39m correct_digit_sum, Integer(\u001b[38;5;241m10\u001b[39m))\n\u001b[0;32m---> 21\u001b[0m result \u001b[38;5;241m=\u001b[39m \u001b[38;5;28mlist\u001b[39m(digit)\n\u001b[1;32m     22\u001b[0m result[bad_index] \u001b[38;5;241m=\u001b[39m r \n\u001b[1;32m     23\u001b[0m \u001b[38;5;28;01mreturn\u001b[39;00m result\u001b[38;5;241m.\u001b[39mjoin(\u001b[38;5;124m\"\u001b[39m\u001b[38;5;124m\"\u001b[39m)\n",
      "\u001b[0;31mTypeError\u001b[0m: 'int' object is not iterable"
     ]
    }
   ],
   "source": [
    "correct_wrong_digit(\"10402196-50526765-81771006\", 3)"
   ]
  }
 ],
 "metadata": {
  "kernelspec": {
   "display_name": "SageMath 10.4",
   "language": "sage",
   "name": "sagemath"
  },
  "language_info": {
   "codemirror_mode": {
    "name": "ipython",
    "version": 3
   },
   "file_extension": ".py",
   "mimetype": "text/x-python",
   "name": "python",
   "nbconvert_exporter": "python",
   "pygments_lexer": "ipython3",
   "version": "3.11.10"
  }
 },
 "nbformat": 4,
 "nbformat_minor": 2
}
