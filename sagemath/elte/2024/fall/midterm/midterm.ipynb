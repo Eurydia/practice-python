{
 "cells": [
  {
   "cell_type": "code",
   "execution_count": null,
   "metadata": {},
   "outputs": [],
   "source": [
    "# Exercise 1\n",
    "# Solutions\n",
    "# 1.a\n",
    "var(\"n,k\")\n",
    "a = [ sum(binomial(n-k-1, k), k, 0, (n-1)//2 ) for n in range(0,10)]\n",
    "print(f'A: {a:}')\n",
    "\n",
    "# 1.b\n",
    "F = matrix([[1, 1], [1, 0]])\n",
    "b = [(F^n)[0][-1] for n in range(0, 10)]\n",
    "print(f'B: {b}')\n",
    "\n",
    "# 1.c\n",
    "phi = (1 + sqrt(5)) / 2\n",
    "phi_bar = (1 - sqrt(5)) / 2\n",
    "__c_expr = lambda n: ((phi^n) - (phi_bar^n))/sqrt(5)\n",
    "c = [__c_expr(n).simplify_full()   for n in range(0, 10)]\n",
    "print(f'C: {c}') \n",
    "\n",
    "# 1.d\n",
    "def __d_fib(n: int) -> int:\n",
    "  if n == 0:\n",
    "    return 0\n",
    "  if n == 1:\n",
    "    return 1\n",
    "  return __d_fib(n - 1) + __d_fib(n - 2)\n",
    "\n",
    "d = [__d_fib(n) for n in range(0, 10)]\n",
    "print(f'D: {d}')"
   ]
  },
  {
   "cell_type": "code",
   "execution_count": 130,
   "metadata": {},
   "outputs": [
    {
     "name": "stdout",
     "output_type": "stream",
     "text": [
      "4*(55*t + 24*sqrt(t) - 6)/t\n"
     ]
    }
   ],
   "source": [
    "# Exercise 2\n",
    "# Let's separate each term into term1, term2, ...\n",
    "var(\"t\")\n",
    "term1 = (4*t  + 12) / (3 * t  + t^2)\n",
    "__term21_expo = -sin(35299*pi/6)\n",
    "term21 = (16 / t)^(__term21_expo)\n",
    "term22 = log(1024, sqrt(2))\n",
    "__term3_mat = matrix([[t^-1, -1, 4], [0,2,3], [-1, -sqrt(t), sqrt(4*t)]])\n",
    "term3 = __term3_mat.det()\n",
    "expr = term1 - (term21 - term22) * term3\n",
    "\n",
    "# From this, we can see that we cannot elimate the term (96*sqrt(t))/t\n",
    "# so the expression dependent on t. \n",
    "print(f'{expr.simplify_full():}')"
   ]
  },
  {
   "cell_type": "code",
   "execution_count": 131,
   "metadata": {},
   "outputs": [
    {
     "name": "stdout",
     "output_type": "stream",
     "text": [
      "[{19, 17, 11, 13}, {109, 107, 101, 103}, {193, 199, 197, 191}, {829, 827, 821, 823}, {1481, 1483, 1489, 1487}, {1873, 1877, 1879, 1871}, {2081, 2083, 2089, 2087}, {3257, 3259, 3251, 3253}, {3467, 3461, 3469, 3463}, {5659, 5657, 5651, 5653}, {9433, 9439, 9437, 9431}]\n"
     ]
    }
   ],
   "source": [
    "# Exercise 3\n",
    "p_gen = Primes()\n",
    "i = 1\n",
    "\n",
    "while p_gen.unrank(i) < 10:\n",
    "  i += 1\n",
    "\n",
    "results: list[set[int]] = []\n",
    "while p_gen.unrank(i) < 10_000:\n",
    "  b = p_gen.unrank(i)\n",
    "  p_set = set()\n",
    "  p_set.add(b)\n",
    "  i += 1\n",
    "\n",
    "  while (p_gen.unrank(i) // 10) == (b // 10):\n",
    "    p_set.add(p_gen.unrank(i))\n",
    "    i += 1\n",
    "    if len(p_set) == 4:\n",
    "      break\n",
    "  if len(p_set) == 4:\n",
    "    results.append(p_set)\n",
    "print(results)"
   ]
  },
  {
   "cell_type": "code",
   "execution_count": null,
   "metadata": {},
   "outputs": [],
   "source": [
    "# Exercise 4\n",
    "\n",
    "# 4.a\n",
    "def eucl_steps(x: int, y: int) -> int:\n",
    "  steps = 0\n",
    "  while x != y:\n",
    "    if x > y:\n",
    "      x -= y\n",
    "    else:\n",
    "      y -= x\n",
    "    steps += 1\n",
    "  return steps\n",
    "print(eucl_steps(50,22))\n",
    "\n",
    "# 4.b\n",
    "def find_max_step(min_v: int, max_v: int):\n",
    "    max_step = 0\n",
    "    max_l = -1\n",
    "    max_r = -1\n",
    "    for b in range(min_v, max_v + 1):\n",
    "      for a in range(b, max_v + 1):\n",
    "        s = eucl_steps(a,b)\n",
    "        if s > max_step:\n",
    "          max_l = a\n",
    "          max_r = b\n",
    "          max_step = s\n",
    "    return max_l, max_r, max_step\n",
    "print(find_max_step(1, 100))\n",
    "\n",
    "# 4.c\n",
    "def print_eucl(x: int, y:int):\n",
    "  print(x,y)\n",
    "  while x != y:\n",
    "    if x > y:\n",
    "      x -= y\n",
    "    else:\n",
    "      y -= x\n",
    "    print(x,y)\n",
    "print_eucl(50,22)    "
   ]
  },
  {
   "cell_type": "code",
   "execution_count": null,
   "metadata": {},
   "outputs": [
    {
     "name": "stdout",
     "output_type": "stream",
     "text": [
      "(3, -5491)\n"
     ]
    }
   ],
   "source": [
    "# Exercise 5\n",
    "\n",
    "def ext_eucl_algo(a: int, b: int) -> tuple[int, int, int]:\n",
    "  r_prime, r = a, b\n",
    "  x_prime, x = 1, 0\n",
    "  while r != 0:\n",
    "    q = r_prime // r\n",
    "    r_prime, r = r, r_prime - q * r\n",
    "    x_prime, x = x, x_prime - q * x\n",
    "    # y_prime, y = y, y_prime - q * y\n",
    "  return r_prime, x_prime\n",
    "\n",
    "print(ext_eucl_algo(111111, 120006))"
   ]
  },
  {
   "cell_type": "code",
   "execution_count": null,
   "metadata": {},
   "outputs": [],
   "source": [
    "# Execise 6\n",
    "\n",
    "# 6.a\n",
    "def is_valid_isbn(isbn: str):\n",
    "  isbn_num = [int(d) for d in isbn if d != '-']\n",
    "  mul = list(range(10, 0, -1))\n",
    "  sum = 0\n",
    "  for pos, digit in enumerate(isbn_num):\n",
    "    sum += (digit * (mul[pos]))\n",
    "  return (sum % 11) == 0\n",
    "\n",
    "is_valid_isbn(\"963-4044-18-2\")\n",
    "\n",
    "# 6.b\n",
    "var(\"x\")\n",
    "def correct_isbn(isbn: str, index: int):\n",
    "  isbn_num = [int(d) for d in isbn if d != '-']\n",
    "  mul = list(range(10, 0, -1))\n",
    "  sum = 0\n",
    "  target_mul = 0\n",
    "  for pos, digit in enumerate(isbn_num):\n",
    "    if pos == index - 1:\n",
    "      target_mul = mul[pos]\n",
    "      continue\n",
    "    sum += (digit * (mul[pos]))\n",
    "  \n",
    "  sols = solve_mod(sum + (target_mul * x) == 0, 11)\n",
    "  for (sol, ) in sols:\n",
    "    if 0<= sol and sol <= 9:\n",
    "      return sol\n",
    "  return -1\n",
    "\n",
    "print(correct_isbn(\"063-4044-18-2\", 1))"
   ]
  }
 ],
 "metadata": {
  "kernelspec": {
   "display_name": "SageMath 10.4",
   "language": "sage",
   "name": "sagemath"
  },
  "language_info": {
   "codemirror_mode": {
    "name": "ipython",
    "version": 3
   },
   "file_extension": ".py",
   "mimetype": "text/x-python",
   "name": "python",
   "nbconvert_exporter": "python",
   "pygments_lexer": "ipython3",
   "version": "3.11.10"
  }
 },
 "nbformat": 4,
 "nbformat_minor": 2
}
