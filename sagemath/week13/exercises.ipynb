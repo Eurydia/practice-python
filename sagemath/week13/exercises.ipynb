{
 "cells": [
  {
   "cell_type": "code",
   "execution_count": 55,
   "metadata": {},
   "outputs": [],
   "source": [
    "def lagrange_interpolate(points: list[tuple[any,any]]):\n",
    "  P.<x> = QQ[]\n",
    "  p = 0\n",
    "  for i, (xi, yi) in enumerate(points):\n",
    "    px = 1\n",
    "    for j, (xj,_) in enumerate(points):\n",
    "      if j == i:\n",
    "        continue\n",
    "      px *= (x-xj) / (xi-xj)\n",
    "    p += yi * px\n",
    "    \n",
    "  return p\n",
    "   "
   ]
  },
  {
   "cell_type": "code",
   "execution_count": 57,
   "metadata": {},
   "outputs": [
    {
     "data": {
      "text/plain": [
       "True"
      ]
     },
     "execution_count": 57,
     "metadata": {},
     "output_type": "execute_result"
    }
   ],
   "source": [
    "P.<x> = QQ[]\n",
    "p = P.lagrange_polynomial([(1,4), (2,2), (5,8)])\n",
    "x = lagrange_interpolate([(1,4), (2,2), (5,8)])\n",
    "x == p\n",
    "\n"
   ]
  },
  {
   "cell_type": "code",
   "execution_count": null,
   "metadata": {},
   "outputs": [
    {
     "name": "stdout",
     "output_type": "stream",
     "text": [
      "\u001b[0;31mType:\u001b[0m           Polynomial_rational_flint\n",
      "\u001b[0;31mString form:\u001b[0m    16*x^2 - 112*x + 160\n",
      "\u001b[0;31mFile:\u001b[0m           ~/miniforge3/envs/sage/lib/python3.11/site-packages/sage/rings/polynomial/polynomial_rational_flint.pyx\n",
      "\u001b[0;31mDocstring:\u001b[0m     \n",
      "   Univariate polynomials over the rationals, implemented via FLINT.\n",
      "\n",
      "   Internally, we represent rational polynomial as the quotient of an\n",
      "   integer polynomial and a positive denominator which is coprime to\n",
      "   the content of the numerator.\n",
      "\u001b[0;31mInit docstring:\u001b[0m\n",
      "   Initialises the associated data for the polynomial \"self\".\n",
      "\n",
      "   INPUT:\n",
      "\n",
      "   * \"parent\" -- Polynomial ring, the parent of \"self\"\n",
      "\n",
      "   * \"x\" -- Data for the new polynomial self, e.g. a polynomial, an\n",
      "     integer, a rational, a list of rationals, a dictionary with keys\n",
      "     the degrees and the rational coefficients, etc (default: \"None\")\n",
      "\n",
      "   * check` -- Whether the integrity of the data needs to be verified,\n",
      "     largely ignored by this method (default: \"True\")\n",
      "\n",
      "   * \"is_gen\" -- Whether self shall be initialised as the generator of\n",
      "     the parent polynomial ring\n",
      "\n",
      "   * \"construct\" -- Whether the element shall always be constructed as\n",
      "     an independent copy of any input data (default: \"False\")\n",
      "\u001b[0;31mCall docstring:\u001b[0m\n",
      "   Calls this polynomial with the given parameters, which can be\n",
      "   interpreted as polynomial composition or evaluation by this method.\n",
      "\n",
      "   If the argument is not simply an integer, a rational, or a\n",
      "   polynomial, the call is passed on to the generic implementation in\n",
      "   the Polynomial class.\n",
      "\n",
      "   EXAMPLES:\n",
      "\n",
      "   The first example illustrates polynomial composition:\n",
      "\n",
      "      sage: R.<t> = QQ[]\n",
      "      sage: f = t^2 - 1\n",
      "      sage: g = t + 1\n",
      "      sage: f(g)          # indirect doctest\n",
      "      t^2 + 2*t\n",
      "\n",
      "   Now we illustrate how a polynomial can be evaluated at a rational\n",
      "   number:\n",
      "\n",
      "      sage: f(-2/3)       # indirect doctest\n",
      "      -5/9"
     ]
    }
   ],
   "source": [
    "def secret_share(n,k,s):"
   ]
  }
 ],
 "metadata": {
  "kernelspec": {
   "display_name": "SageMath 10.4",
   "language": "sage",
   "name": "sagemath"
  },
  "language_info": {
   "codemirror_mode": {
    "name": "ipython",
    "version": 3
   },
   "file_extension": ".py",
   "mimetype": "text/x-python",
   "name": "python",
   "nbconvert_exporter": "python",
   "pygments_lexer": "ipython3",
   "version": "3.11.10"
  }
 },
 "nbformat": 4,
 "nbformat_minor": 2
}
