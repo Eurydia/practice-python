{
  "cells": [
    {
      "cell_type": "markdown",
      "metadata": {
        "id": "bx2aft9QdymK"
      },
      "source": [
        "![Title](Images/cisco.png)"
      ]
    },
    {
      "cell_type": "markdown",
      "metadata": {
        "id": "NHO0UH3zdymO"
      },
      "source": [
        "# Lab - Internet Meter Anomaly Detection"
      ]
    },
    {
      "cell_type": "markdown",
      "metadata": {
        "id": "piZzT7tNdymP"
      },
      "source": [
        "### Objectives\n",
        "<li>**Part 1: Feature Engineering**</li>\n",
        "<li>**Part 2: Euclidean Anomaly Detection**</li>\n",
        "### Scenario/Background\n",
        "Anomaly-detection algorithms locate those datapoints that stand out from a pattern. For example, algorithms of this kind can be used to test the safety of airplane engines by recording quantities such as fuel consumption, temperature, and so on. Whenever the measurements display extreme values, such as unusually high temperature, anomaly detection alerts the operator, who can then take action to resolve potential issues. Constant improvement of safety standards is not unique to the transport sector, and these algorithms find applications in all branches of industry, from food manufacturing to the production of toys for children.\n",
        "### Required Resources\n",
        "* 1 PC with Internet access\n",
        "* Raspberry Pi version 2 or higher\n",
        "* Python libraries: numpy, pandas, matplotlib\n",
        "* Datafiles: rpi_data_processed.csv\n"
      ]
    },
    {
      "cell_type": "markdown",
      "metadata": {
        "id": "KqPg5vBndymP"
      },
      "source": [
        "## Part 1 : Feature Engineering"
      ]
    },
    {
      "cell_type": "markdown",
      "metadata": {
        "id": "2td8qAjTdymQ"
      },
      "source": [
        "#### Step 1: Import Python Libraries.\n",
        "In this step, you will import Python libraries."
      ]
    },
    {
      "cell_type": "code",
      "execution_count": null,
      "metadata": {
        "collapsed": true,
        "id": "DyGkj46UdymR"
      },
      "outputs": [],
      "source": [
        "# Code Cell 1\n",
        "import numpy as np\n",
        "import pandas as pd"
      ]
    },
    {
      "cell_type": "markdown",
      "metadata": {
        "id": "JORF5YeZdymS"
      },
      "source": [
        "#### Step 2: Create a Dataframe and modify the quantities.\n",
        "The quantities that are recorded when gathering data, also known as features, may require some transformation before analysis. For example, the quantity called 'ping' obtained when measuring internet speed. This feature describes intervals of time. A contrast is then observed, as the other quantities being monitored, namely the rates of download and upload, have dimensions of **inverse** time. Because of this, 'ping' is not the optimal choice for statistical analysis. Better results are achieved using a related feature, which we will call 'ping rate'. This is calculated by applying the simple transformation $$\\mathrm{ping\\ rate} = \\frac{1}{\\mathrm{ping\\ time}}.$$\n",
        "This process of 'modifying' quantities in view of analysis is termed 'feature engineering', and is generally an important part of the machine-learning workflow.\n",
        "\n",
        "Load the internet-speed data from the file `rpi_data_processed.csv` into a Pandas dataframe named `df`. Using this as a starting point,  generate another dataframe, `df_rates`, whose three columns are `download_rate`, `upload_rate` and `ping_rate` respectively. When computing this last feature, make sure that the result is given in units of `1/seconds`."
      ]
    },
    {
      "cell_type": "code",
      "execution_count": null,
      "metadata": {
        "collapsed": true,
        "id": "55UMTem3dymT"
      },
      "outputs": [],
      "source": [
        "#Code Cell 2\n",
        "# Load internet speed data\n",
        "df = pd.read_csv('/content/rpi_data_processed.csv')\n",
        "\n",
        "# Initialize dataframe df_rates\n",
        "df_rates = df.drop(['Ping (ms)', 'Date', 'Time'], axis=1)\n",
        "\n",
        "# Rename the download and\n",
        "# upload columns of df_rates\n",
        "lookup = {'Download (Mbit/s)': 'download_rate',\n",
        "          'Upload (Mbit/s)': 'upload_rate'}\n",
        "df_rates = df_rates.rename(columns = lookup)\n",
        "\n",
        "# Calculate ping_rate\n",
        "ping_rate = 1. / df['Ping (ms)']\n",
        "\n",
        "# Convert ping_rate to 1/seconds\n",
        "ping_rate = 1000. * ping_rate\n",
        "\n",
        "# Add a column to complete the task\n",
        "df_rates['ping_rate'] = ping_rate"
      ]
    },
    {
      "cell_type": "code",
      "execution_count": null,
      "metadata": {
        "colab": {
          "base_uri": "https://localhost:8080/",
          "height": 300
        },
        "collapsed": true,
        "id": "45BLV96LdymT",
        "outputId": "8a9ac6b2-f1ea-4bda-aa2c-2a0d27a553fc"
      },
      "outputs": [],
      "source": [
        "#Code Cell 3\n",
        "# Inspect the result\n",
        "df_rates.describe()"
      ]
    },
    {
      "cell_type": "markdown",
      "metadata": {
        "id": "45Pe5Z5fdymU"
      },
      "source": [
        "#### Step 3:  Visualize the Data.\n",
        "\n",
        "It is reasonable to expect that the measured values of `download_rate`, `upload_rate` and `ping_rate` are concentrated around their averages. Observe the visualization below to see this. Use the sliders to change the angle and azimuth of the plot.\n",
        "\n",
        "**Optional** <br>\n",
        "Because internet-speed data only involve three different quantities, they are particularly simple to visualize. Machine-learning systems often exploit tens or even hundreds of features, which makes it difficult to create insightful plots. While drawing eloquent figures is not possible in many situations, interactive visualizations remain a great way of presenting data in front of an audience. You may then want to read and understand the code below, with the help of two comments:\n",
        "\n",
        "* The class `Axes3D` from `mpl_toolkits.mplot3d` allows you to generate 3-dimensional plots, extending the functionalities of the familiar `matplotlib.pyplot` module.\n",
        "* The method `interact`, which plays crucial role in animating the visualization, is obtained from `ipywidgets`. This module, in turn, is part of the `Ipython` environment for running Python interactively.  "
      ]
    },
    {
      "cell_type": "code",
      "execution_count": null,
      "metadata": {
        "collapsed": true,
        "id": "XCZXF4sKdymV"
      },
      "outputs": [],
      "source": [
        "# Code Cell 4\n",
        "import matplotlib.pyplot as plt\n",
        "from mpl_toolkits.mplot3d import Axes3D\n",
        "from ipywidgets import interact"
      ]
    },
    {
      "cell_type": "code",
      "execution_count": null,
      "metadata": {
        "collapsed": true,
        "id": "Jxy8I2YRdymV"
      },
      "outputs": [],
      "source": [
        "# Code Cell 5\n",
        "def scatter_view(x, y, z, azim, elev):\n",
        "    # Init figure and axes\n",
        "    fig = plt.figure(figsize=(8, 8))\n",
        "    ax = Axes3D(fig)\n",
        "\n",
        "    # Compute scatter plot\n",
        "    ax.scatter(x, y, z)\n",
        "    ax.set_xlabel('D rate (Mbit/s)', fontsize=16)\n",
        "    ax.set_ylabel('U rate (Mbit/s)', fontsize=16)\n",
        "    ax.set_zlabel('P rate (1/s)', fontsize=16)\n",
        "\n",
        "    # Specify azimuth\n",
        "    # and elevation\n",
        "    ax.azim = azim\n",
        "    ax.elev = elev"
      ]
    },
    {
      "cell_type": "code",
      "execution_count": null,
      "metadata": {
        "colab": {
          "base_uri": "https://localhost:8080/",
          "height": 671,
          "referenced_widgets": [
            "e5bc7c7da3c047f9b8901c4585950fac",
            "cb0770314efb4d9fa6b14e8db3883369",
            "8ff8ee26a0124e71ac8a45a33d7f3aa1",
            "a3570c556b6746db8d8b247f56a69198",
            "848c61bfb89c4906bb08648560d02992",
            "e41d8c71621e40058ee79a66d7f3bed7",
            "7303df569cbf4f668644cb6efca51d13",
            "86d4a15a551d4c2195e1bedf329415ed",
            "d985a4497d04483cb9c93af0201420b4",
            "5813355c8f554e47976c4867c8b1885f"
          ]
        },
        "collapsed": true,
        "id": "sr1ti07XdymV",
        "outputId": "4335f06b-2806-4471-b9b6-f7275272fa63"
      },
      "outputs": [],
      "source": [
        "# Code Cell 6\n",
        "# Draw interactive plot\n",
        "xi = df_rates['download_rate']\n",
        "yi = df_rates['upload_rate']\n",
        "zi = df_rates['ping_rate']\n",
        "interact(lambda azim, elev: scatter_view(xi, yi, zi, azim, elev),\n",
        "         azim=(0, 90), elev=(0, 90))\n",
        "plt.show()"
      ]
    },
    {
      "cell_type": "markdown",
      "metadata": {
        "id": "FYPMjn0wdymW"
      },
      "source": [
        "## Part 2: Euclidean Anomaly Detection"
      ]
    },
    {
      "cell_type": "markdown",
      "metadata": {
        "id": "QCDM_6NBdymW"
      },
      "source": [
        "As illustrated in the 3-dimensional plot above, anomalies are located far away from the 'average point'. The anomaly-detection system that we will discuss exploits this idea. Points that lie beyond a certain distance from the average will be considered anomalous, whereas all other will be deemed normal.\n",
        "\n",
        "For the sake of brevity, let us represent the coordinates `[download_rate, upload_rate, ping_rate]` of a datapoint as  $\\{x, y, z\\}$. Then, the distance of a measurement from the average location $\\{\\mu_{x}, \\mu_{y}, \\mu_{z}\\}$ is given by this formula:\n",
        "\n",
        "$$d = \\sqrt{(x - \\mu_x)^2 + (y-\\mu_y)^2 + (z - \\mu_z)^2},$$\n",
        "\n",
        "This is the main ingredient of the anomaly detection system that we will build. As an aside, this ordinary concept of distance is termed **Euclidean**, to distinguish it from possible generalizations. Points such that $x$, $y$, or $z$ differ appreciably from the averages $\\mu_{x}$, $\\mu_{y}$, and $\\mu_{z}$, can be regarded as anomalies.\n",
        "\n",
        "#### Step 1: Calculate the means.\n",
        "Using a suitable Pandas function, calculate the list `mu`, whose elements are the average download, upload and ping rates."
      ]
    },
    {
      "cell_type": "code",
      "execution_count": null,
      "metadata": {
        "collapsed": true,
        "id": "LYfpisrfdymW"
      },
      "outputs": [],
      "source": [
        "# Code Cell 7\n",
        "mu = df_rates.mean()"
      ]
    },
    {
      "cell_type": "markdown",
      "metadata": {
        "id": "6nPt1qcMdymW"
      },
      "source": [
        "#### Step 2: Calculate the Euclidean distance.\n",
        "Find the Euclidean distance between each point and the average location. You may resort to the Numpy functions `np.square` and `np.sqrt`. These compute the [element-wise](http://www.glue.umd.edu/afs/glue.umd.edu/system/info/olh/Numerical/Matlab_Matrix_Manipulation_Software/Matrix_Vector_Operations/elementwise) square power and square root of any input array. Using element-wise functions makes it possible to calculate the distances without `for`-loops that iterate over the datapoints."
      ]
    },
    {
      "cell_type": "code",
      "execution_count": null,
      "metadata": {
        "collapsed": true,
        "id": "q7ih1nW2dymX"
      },
      "outputs": [],
      "source": [
        "# Code Cell 8\n",
        "euclid_sq = np.square(df_rates - mu).sum(axis=1)\n",
        "euclid = np.sqrt(euclid_sq)"
      ]
    },
    {
      "cell_type": "markdown",
      "metadata": {
        "id": "fR4hDdWWdymX"
      },
      "source": [
        "#### Step 3: Create a histogram.\n",
        "Create a histogram of the distance separating each datapoint from the average location. Anomalies are then easily recognized in the 'tail' of the histogram."
      ]
    },
    {
      "cell_type": "code",
      "execution_count": null,
      "metadata": {
        "colab": {
          "base_uri": "https://localhost:8080/",
          "height": 464
        },
        "collapsed": true,
        "id": "gXQjRT8cdymX",
        "outputId": "8536ef91-9fab-48e6-ef33-268947a310e9"
      },
      "outputs": [],
      "source": [
        "# Code Cell 9\n",
        "# Histogram of Euclidean distance\n",
        "fig = plt.figure(figsize=(7, 7))\n",
        "# plot the histogram using 25 bins\n",
        "plt.hist(euclid, 25)\n",
        "plt.xlabel('Euclidean distance', fontsize=16)\n",
        "plt.ylabel('Relative frequency', fontsize=16)"
      ]
    },
    {
      "cell_type": "markdown",
      "metadata": {
        "id": "Hu7rdPiVdymX"
      },
      "source": [
        "#### Step 4: Compute the normalized distance.\n",
        "It is helpful to work in terms of a **normalized distance**. This is the ratio of each distance over the maximum value of $d$. The furthest anomalous points, then, have a normalized distance of 1. Compute the normalized Euclidean distance for every point in the dataset."
      ]
    },
    {
      "cell_type": "code",
      "execution_count": null,
      "metadata": {
        "collapsed": true,
        "id": "rOWu30JOdymY"
      },
      "outputs": [],
      "source": [
        "# Code Cell 10\n",
        "# Maximum Euclidean distance\n",
        "max_euclid = euclid.max()\n",
        "# Normalized Euclidean distance\n",
        "nmd_euclid = [x/max_euclid for x in map(float, euclid)]"
      ]
    },
    {
      "cell_type": "markdown",
      "metadata": {
        "id": "nL1JB4zfdymY"
      },
      "source": [
        "#### Step 5: Visualize the alarm rate.\n",
        "In order to label the points as normal and anomalous, you must define a **decision boundary**. It is necessary to select the distance beyond which points are deemed atypical. While the position of the boundary can be fixed on the basis of qualitative considerations, a quantitiative approach seems preferable. You can gradually increase decision distance, and monitor how the alarm rate varies. Specifically, the alarm rate is the number of anomalies divided by the total number of datapoints. This procedure 'tries out' all possible decision boundaries, allowing us to select the most appropriate one.\n",
        "\n",
        "Vary the normalized decision distance from 0 to 1, and record the alarm rate at each step. Store the values of normalized distance and alarm rate in the lists `nmd_range` and `ecl_alarm_rate` respectively. To visualize these results,  generate a plot."
      ]
    },
    {
      "cell_type": "code",
      "execution_count": null,
      "metadata": {
        "collapsed": true,
        "id": "P6W8l_r9dymY"
      },
      "outputs": [],
      "source": [
        "# Code Cell 11\n",
        "# Get alarm rate as a function\n",
        "# of normalized decision distance\n",
        "ecl_alarm_rate = []\n",
        "nmd_range = np.linspace(0, 1, 400)\n",
        "for nmd_decision in nmd_range:\n",
        "    # Count the number of values with a higher euclidean distance than\n",
        "    # the current decision boundary\n",
        "    num_fail = (nmd_euclid > nmd_decision).sum()\n",
        "    ecl_alarm_rate.append(float(num_fail) / len(euclid))"
      ]
    },
    {
      "cell_type": "code",
      "execution_count": null,
      "metadata": {
        "colab": {
          "base_uri": "https://localhost:8080/",
          "height": 447
        },
        "collapsed": true,
        "id": "rOSBZToVdymZ",
        "outputId": "61303821-b115-491d-d97d-bf1002839cfa"
      },
      "outputs": [],
      "source": [
        "# Code Cell 12\n",
        "# Plot number of alarms as a\n",
        "# function of decision distance\n",
        "fig = plt.figure(figsize=(7, 7))\n",
        "plt.plot(nmd_range, ecl_alarm_rate, linewidth=9)\n",
        "plt.xlabel('Normalized distance (Euclidean)', fontsize=16)\n",
        "plt.ylabel('Alarm rate', fontsize=16)\n",
        "plt.show()"
      ]
    },
    {
      "cell_type": "markdown",
      "metadata": {
        "id": "vb_ytemrdymZ"
      },
      "source": [
        "#### Step 6: Select the decision boundary.\n",
        "The plot above converts the problem of fixing a decision boundary in that of selecting the alarm rate. This is advantageous because the domain of application typically determines a sensible choice for the alarm rate. For example, when testing the safety of aeroplane engines, we may want to choose the alarm rate to be relatively high, so that both major and minor anomalies are detected, and the level of risk is kept low.\n",
        "\n",
        "Assume that, for this specific use-case, the optimal alarm rate is 0.1. Find the smallest normalized decision distance (`ecl_decision`) so that the alarm rate falls strictly below the threshold. Because the alarm rate at the selected decision boundary will not be precisely 0.1, store the exact rate in the variable `ecl_threshold`.\n"
      ]
    },
    {
      "cell_type": "code",
      "execution_count": null,
      "metadata": {
        "collapsed": true,
        "id": "4iAigWRZdymZ"
      },
      "outputs": [],
      "source": [
        "# Code Cell 13\n",
        "# Select decision boundary\n",
        "threshold = 0.1\n",
        "index, ecl_threshold = next(tpl for tpl in enumerate(ecl_alarm_rate) if tpl[1] < threshold)\n",
        "ecl_decision = nmd_range[index]"
      ]
    },
    {
      "cell_type": "markdown",
      "metadata": {
        "id": "066nWhXGdymZ"
      },
      "source": [
        "#### Step 7: Visualize the decision boundary.\n",
        "Generate the plot from step 5 again, using a dot to mark the location of the decision boundary."
      ]
    },
    {
      "cell_type": "code",
      "execution_count": null,
      "metadata": {
        "colab": {
          "base_uri": "https://localhost:8080/",
          "height": 464
        },
        "collapsed": true,
        "id": "Vzj0NZ2xdymZ",
        "outputId": "1c8ac8ce-65dc-4ad9-d90c-9eb8e9dadbe1"
      },
      "outputs": [],
      "source": [
        "#Code Cell 14\n",
        "# Alarm rate with decision boundary\n",
        "fig = plt.figure(figsize=(7, 7))\n",
        "\n",
        "plt.plot(nmd_range, ecl_alarm_rate, linewidth=2)\n",
        "plt.plot(ecl_decision, ecl_threshold, 'bo', markersize=11)\n",
        "\n",
        "plt.xlabel('Normalized distance (Euclidean)', fontsize=16)\n",
        "plt.ylabel('Alarm rate', fontsize=16)"
      ]
    },
    {
      "cell_type": "markdown",
      "metadata": {
        "id": "Gar7vOrjdyma"
      },
      "source": [
        "#### Step 8: Visualize the decision boundary in 3D.\n",
        "Because our anomaly detection algorithm makes use of Euclidean distances, its decision boundaries, when visualized in three dimensions, are spherical. Examine the plot below to see this. We would also encourage you to read and understand the associated code."
      ]
    },
    {
      "cell_type": "code",
      "execution_count": null,
      "metadata": {
        "collapsed": true,
        "id": "VtRcORTLdyma"
      },
      "outputs": [],
      "source": [
        "#Code Cell 15\n",
        "# Decision sphere (Polar coordinates)\n",
        "radius = ecl_decision * max_euclid\n",
        "phi = np.linspace(0, 2 * np.pi, 300)\n",
        "theta = np.linspace(0, 2 * np.pi, 300)\n",
        "\n",
        "# Decision sphere (Cartesian coordinates)\n",
        "xs = radius * np.outer(np.sin(theta), np.cos(phi))\n",
        "ys = radius * np.outer(np.sin(theta), np.sin(phi))\n",
        "zs = radius * np.outer(np.cos(theta), np.ones(np.size(phi)))\n",
        "\n",
        "# Center decision sphere at mean\n",
        "ecl_xd = xs + df_rates['download_rate'].mean()\n",
        "ecl_yd = ys + df_rates['upload_rate'].mean()\n",
        "ecl_zd = zs + df_rates['ping_rate'].mean()"
      ]
    },
    {
      "cell_type": "code",
      "execution_count": null,
      "metadata": {
        "colab": {
          "base_uri": "https://localhost:8080/",
          "height": 535
        },
        "collapsed": true,
        "id": "0fnyeuj2dyma",
        "outputId": "532b3111-310a-4955-fe9b-d47573317d93"
      },
      "outputs": [],
      "source": [
        "#Code Cell 16\n",
        "# Init figure and axes\n",
        "fig = plt.figure(figsize=(7, 7))\n",
        "ax = Axes3D(fig)\n",
        "\n",
        "# Plot data\n",
        "ax.scatter(df_rates['download_rate'],\n",
        "           df_rates['upload_rate'],\n",
        "           df_rates['ping_rate'])\n",
        "\n",
        "# Plot decision boundary\n",
        "ax.plot_surface(ecl_xd, ecl_yd, ecl_zd,\n",
        "                linewidth=0, alpha=0.25)\n",
        "\n",
        "# Label axes\n",
        "ax.set_xlabel('D rate (Mbit/s)', fontsize=16)\n",
        "ax.set_ylabel('U rate (Mbit/s)', fontsize=16)\n",
        "ax.set_zlabel('P rate (1/s)', fontsize=16)\n",
        "\n",
        "# --------------------------------------------------\n",
        "# Set equal aspect ratio for all axes\n",
        "# --------------------------------------------------\n",
        "\n",
        "# Extreme values of x, y, z\n",
        "extremes = []\n",
        "extremes.append([df_rates['download_rate'].min(),\n",
        "                 df_rates['download_rate'].max()])\n",
        "extremes.append([df_rates['upload_rate'].min(),\n",
        "                 df_rates['upload_rate'].max()])\n",
        "extremes.append([df_rates['ping_rate'].min(),\n",
        "                 df_rates['ping_rate'].max()])\n",
        "\n",
        "# Half-widths and mid-points\n",
        "hwidths = [(row[1] - row[0]) / 2.0 for row in extremes]\n",
        "midpts = [(row[1] + row[0]) / 2.0 for row in extremes]\n",
        "\n",
        "# Set xlim, ylim, zlim\n",
        "left_ends = midpts - np.max(hwidths)\n",
        "right_ends = midpts + np.max(hwidths)\n",
        "ax.set_xlim([left_ends[0], right_ends[0]]);\n",
        "ax.set_ylim([left_ends[1], right_ends[1]]);\n",
        "ax.set_ylim([left_ends[2], right_ends[2]]);"
      ]
    },
    {
      "cell_type": "markdown",
      "metadata": {
        "id": "mGe-c40Adyma"
      },
      "source": [
        "<font size='0.5'>&copy; 2017 Cisco and/or its affiliates. All rights reserved. This document is Cisco Public.<font>"
      ]
    }
  ],
  "metadata": {
    "colab": {
      "provenance": []
    },
    "kernelspec": {
      "display_name": "Python 3",
      "language": "python",
      "name": "python3"
    },
    "language_info": {
      "codemirror_mode": {
        "name": "ipython",
        "version": 3
      },
      "file_extension": ".py",
      "mimetype": "text/x-python",
      "name": "python",
      "nbconvert_exporter": "python",
      "pygments_lexer": "ipython3",
      "version": "3.11.5"
    },
    "widgets": {
      "application/vnd.jupyter.widget-state+json": {
        "5813355c8f554e47976c4867c8b1885f": {
          "model_module": "@jupyter-widgets/base",
          "model_module_version": "1.2.0",
          "model_name": "LayoutModel",
          "state": {
            "_model_module": "@jupyter-widgets/base",
            "_model_module_version": "1.2.0",
            "_model_name": "LayoutModel",
            "_view_count": null,
            "_view_module": "@jupyter-widgets/base",
            "_view_module_version": "1.2.0",
            "_view_name": "LayoutView",
            "align_content": null,
            "align_items": null,
            "align_self": null,
            "border": null,
            "bottom": null,
            "display": null,
            "flex": null,
            "flex_flow": null,
            "grid_area": null,
            "grid_auto_columns": null,
            "grid_auto_flow": null,
            "grid_auto_rows": null,
            "grid_column": null,
            "grid_gap": null,
            "grid_row": null,
            "grid_template_areas": null,
            "grid_template_columns": null,
            "grid_template_rows": null,
            "height": null,
            "justify_content": null,
            "justify_items": null,
            "left": null,
            "margin": null,
            "max_height": null,
            "max_width": null,
            "min_height": null,
            "min_width": null,
            "object_fit": null,
            "object_position": null,
            "order": null,
            "overflow": null,
            "overflow_x": null,
            "overflow_y": null,
            "padding": null,
            "right": null,
            "top": null,
            "visibility": null,
            "width": null
          }
        },
        "7303df569cbf4f668644cb6efca51d13": {
          "model_module": "@jupyter-widgets/controls",
          "model_module_version": "1.5.0",
          "model_name": "SliderStyleModel",
          "state": {
            "_model_module": "@jupyter-widgets/controls",
            "_model_module_version": "1.5.0",
            "_model_name": "SliderStyleModel",
            "_view_count": null,
            "_view_module": "@jupyter-widgets/base",
            "_view_module_version": "1.2.0",
            "_view_name": "StyleView",
            "description_width": "",
            "handle_color": null
          }
        },
        "848c61bfb89c4906bb08648560d02992": {
          "model_module": "@jupyter-widgets/base",
          "model_module_version": "1.2.0",
          "model_name": "LayoutModel",
          "state": {
            "_model_module": "@jupyter-widgets/base",
            "_model_module_version": "1.2.0",
            "_model_name": "LayoutModel",
            "_view_count": null,
            "_view_module": "@jupyter-widgets/base",
            "_view_module_version": "1.2.0",
            "_view_name": "LayoutView",
            "align_content": null,
            "align_items": null,
            "align_self": null,
            "border": null,
            "bottom": null,
            "display": null,
            "flex": null,
            "flex_flow": null,
            "grid_area": null,
            "grid_auto_columns": null,
            "grid_auto_flow": null,
            "grid_auto_rows": null,
            "grid_column": null,
            "grid_gap": null,
            "grid_row": null,
            "grid_template_areas": null,
            "grid_template_columns": null,
            "grid_template_rows": null,
            "height": null,
            "justify_content": null,
            "justify_items": null,
            "left": null,
            "margin": null,
            "max_height": null,
            "max_width": null,
            "min_height": null,
            "min_width": null,
            "object_fit": null,
            "object_position": null,
            "order": null,
            "overflow": null,
            "overflow_x": null,
            "overflow_y": null,
            "padding": null,
            "right": null,
            "top": null,
            "visibility": null,
            "width": null
          }
        },
        "86d4a15a551d4c2195e1bedf329415ed": {
          "model_module": "@jupyter-widgets/base",
          "model_module_version": "1.2.0",
          "model_name": "LayoutModel",
          "state": {
            "_model_module": "@jupyter-widgets/base",
            "_model_module_version": "1.2.0",
            "_model_name": "LayoutModel",
            "_view_count": null,
            "_view_module": "@jupyter-widgets/base",
            "_view_module_version": "1.2.0",
            "_view_name": "LayoutView",
            "align_content": null,
            "align_items": null,
            "align_self": null,
            "border": null,
            "bottom": null,
            "display": null,
            "flex": null,
            "flex_flow": null,
            "grid_area": null,
            "grid_auto_columns": null,
            "grid_auto_flow": null,
            "grid_auto_rows": null,
            "grid_column": null,
            "grid_gap": null,
            "grid_row": null,
            "grid_template_areas": null,
            "grid_template_columns": null,
            "grid_template_rows": null,
            "height": null,
            "justify_content": null,
            "justify_items": null,
            "left": null,
            "margin": null,
            "max_height": null,
            "max_width": null,
            "min_height": null,
            "min_width": null,
            "object_fit": null,
            "object_position": null,
            "order": null,
            "overflow": null,
            "overflow_x": null,
            "overflow_y": null,
            "padding": null,
            "right": null,
            "top": null,
            "visibility": null,
            "width": null
          }
        },
        "8ff8ee26a0124e71ac8a45a33d7f3aa1": {
          "model_module": "@jupyter-widgets/controls",
          "model_module_version": "1.5.0",
          "model_name": "IntSliderModel",
          "state": {
            "_dom_classes": [],
            "_model_module": "@jupyter-widgets/controls",
            "_model_module_version": "1.5.0",
            "_model_name": "IntSliderModel",
            "_view_count": null,
            "_view_module": "@jupyter-widgets/controls",
            "_view_module_version": "1.5.0",
            "_view_name": "IntSliderView",
            "continuous_update": true,
            "description": "elev",
            "description_tooltip": null,
            "disabled": false,
            "layout": "IPY_MODEL_86d4a15a551d4c2195e1bedf329415ed",
            "max": 90,
            "min": 0,
            "orientation": "horizontal",
            "readout": true,
            "readout_format": "d",
            "step": 1,
            "style": "IPY_MODEL_d985a4497d04483cb9c93af0201420b4",
            "value": 41
          }
        },
        "a3570c556b6746db8d8b247f56a69198": {
          "model_module": "@jupyter-widgets/output",
          "model_module_version": "1.0.0",
          "model_name": "OutputModel",
          "state": {
            "_dom_classes": [],
            "_model_module": "@jupyter-widgets/output",
            "_model_module_version": "1.0.0",
            "_model_name": "OutputModel",
            "_view_count": null,
            "_view_module": "@jupyter-widgets/output",
            "_view_module_version": "1.0.0",
            "_view_name": "OutputView",
            "layout": "IPY_MODEL_5813355c8f554e47976c4867c8b1885f",
            "msg_id": "",
            "outputs": [
              {
                "data": {
                  "image/png": "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\n",
                  "text/plain": "<Figure size 576x576 with 1 Axes>"
                },
                "metadata": {
                  "needs_background": "light"
                },
                "output_type": "display_data"
              }
            ]
          }
        },
        "cb0770314efb4d9fa6b14e8db3883369": {
          "model_module": "@jupyter-widgets/controls",
          "model_module_version": "1.5.0",
          "model_name": "IntSliderModel",
          "state": {
            "_dom_classes": [],
            "_model_module": "@jupyter-widgets/controls",
            "_model_module_version": "1.5.0",
            "_model_name": "IntSliderModel",
            "_view_count": null,
            "_view_module": "@jupyter-widgets/controls",
            "_view_module_version": "1.5.0",
            "_view_name": "IntSliderView",
            "continuous_update": true,
            "description": "azim",
            "description_tooltip": null,
            "disabled": false,
            "layout": "IPY_MODEL_e41d8c71621e40058ee79a66d7f3bed7",
            "max": 90,
            "min": 0,
            "orientation": "horizontal",
            "readout": true,
            "readout_format": "d",
            "step": 1,
            "style": "IPY_MODEL_7303df569cbf4f668644cb6efca51d13",
            "value": 77
          }
        },
        "d985a4497d04483cb9c93af0201420b4": {
          "model_module": "@jupyter-widgets/controls",
          "model_module_version": "1.5.0",
          "model_name": "SliderStyleModel",
          "state": {
            "_model_module": "@jupyter-widgets/controls",
            "_model_module_version": "1.5.0",
            "_model_name": "SliderStyleModel",
            "_view_count": null,
            "_view_module": "@jupyter-widgets/base",
            "_view_module_version": "1.2.0",
            "_view_name": "StyleView",
            "description_width": "",
            "handle_color": null
          }
        },
        "e41d8c71621e40058ee79a66d7f3bed7": {
          "model_module": "@jupyter-widgets/base",
          "model_module_version": "1.2.0",
          "model_name": "LayoutModel",
          "state": {
            "_model_module": "@jupyter-widgets/base",
            "_model_module_version": "1.2.0",
            "_model_name": "LayoutModel",
            "_view_count": null,
            "_view_module": "@jupyter-widgets/base",
            "_view_module_version": "1.2.0",
            "_view_name": "LayoutView",
            "align_content": null,
            "align_items": null,
            "align_self": null,
            "border": null,
            "bottom": null,
            "display": null,
            "flex": null,
            "flex_flow": null,
            "grid_area": null,
            "grid_auto_columns": null,
            "grid_auto_flow": null,
            "grid_auto_rows": null,
            "grid_column": null,
            "grid_gap": null,
            "grid_row": null,
            "grid_template_areas": null,
            "grid_template_columns": null,
            "grid_template_rows": null,
            "height": null,
            "justify_content": null,
            "justify_items": null,
            "left": null,
            "margin": null,
            "max_height": null,
            "max_width": null,
            "min_height": null,
            "min_width": null,
            "object_fit": null,
            "object_position": null,
            "order": null,
            "overflow": null,
            "overflow_x": null,
            "overflow_y": null,
            "padding": null,
            "right": null,
            "top": null,
            "visibility": null,
            "width": null
          }
        },
        "e5bc7c7da3c047f9b8901c4585950fac": {
          "model_module": "@jupyter-widgets/controls",
          "model_module_version": "1.5.0",
          "model_name": "VBoxModel",
          "state": {
            "_dom_classes": [
              "widget-interact"
            ],
            "_model_module": "@jupyter-widgets/controls",
            "_model_module_version": "1.5.0",
            "_model_name": "VBoxModel",
            "_view_count": null,
            "_view_module": "@jupyter-widgets/controls",
            "_view_module_version": "1.5.0",
            "_view_name": "VBoxView",
            "box_style": "",
            "children": [
              "IPY_MODEL_cb0770314efb4d9fa6b14e8db3883369",
              "IPY_MODEL_8ff8ee26a0124e71ac8a45a33d7f3aa1",
              "IPY_MODEL_a3570c556b6746db8d8b247f56a69198"
            ],
            "layout": "IPY_MODEL_848c61bfb89c4906bb08648560d02992"
          }
        }
      }
    }
  },
  "nbformat": 4,
  "nbformat_minor": 0
}
